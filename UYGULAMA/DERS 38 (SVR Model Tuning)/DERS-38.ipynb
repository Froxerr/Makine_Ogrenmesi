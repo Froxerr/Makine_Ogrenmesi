{
 "cells": [
  {
   "cell_type": "code",
   "execution_count": 1,
   "id": "c4c51cf3",
   "metadata": {},
   "outputs": [],
   "source": [
    "#DERS 37"
   ]
  },
  {
   "cell_type": "code",
   "execution_count": 2,
   "id": "6256c798",
   "metadata": {},
   "outputs": [],
   "source": [
    "import yfinance as yf #pip install yahoo-finance\n",
    "import numpy as np\n",
    "from sklearn.preprocessing import StandardScaler\n",
    "from sklearn.svm import SVR\n",
    "import matplotlib.pyplot as plt\n",
    "import sklearn.metrics as mt"
   ]
  },
  {
   "cell_type": "code",
   "execution_count": 3,
   "id": "2199d673",
   "metadata": {},
   "outputs": [
    {
     "name": "stdout",
     "output_type": "stream",
     "text": [
      "[*********************100%%**********************]  1 of 1 completed\n"
     ]
    },
    {
     "data": {
      "text/html": [
       "<div>\n",
       "<style scoped>\n",
       "    .dataframe tbody tr th:only-of-type {\n",
       "        vertical-align: middle;\n",
       "    }\n",
       "\n",
       "    .dataframe tbody tr th {\n",
       "        vertical-align: top;\n",
       "    }\n",
       "\n",
       "    .dataframe thead th {\n",
       "        text-align: right;\n",
       "    }\n",
       "</style>\n",
       "<table border=\"1\" class=\"dataframe\">\n",
       "  <thead>\n",
       "    <tr style=\"text-align: right;\">\n",
       "      <th></th>\n",
       "      <th>Open</th>\n",
       "      <th>High</th>\n",
       "      <th>Low</th>\n",
       "      <th>Close</th>\n",
       "      <th>Adj Close</th>\n",
       "      <th>Volume</th>\n",
       "    </tr>\n",
       "    <tr>\n",
       "      <th>Date</th>\n",
       "      <th></th>\n",
       "      <th></th>\n",
       "      <th></th>\n",
       "      <th></th>\n",
       "      <th></th>\n",
       "      <th></th>\n",
       "    </tr>\n",
       "  </thead>\n",
       "  <tbody>\n",
       "    <tr>\n",
       "      <th>2022-08-01</th>\n",
       "      <td>50.750000</td>\n",
       "      <td>51.599998</td>\n",
       "      <td>50.650002</td>\n",
       "      <td>51.500000</td>\n",
       "      <td>51.500000</td>\n",
       "      <td>71659508</td>\n",
       "    </tr>\n",
       "    <tr>\n",
       "      <th>2022-08-02</th>\n",
       "      <td>51.799999</td>\n",
       "      <td>53.200001</td>\n",
       "      <td>51.650002</td>\n",
       "      <td>52.349998</td>\n",
       "      <td>52.349998</td>\n",
       "      <td>137217705</td>\n",
       "    </tr>\n",
       "    <tr>\n",
       "      <th>2022-08-03</th>\n",
       "      <td>52.950001</td>\n",
       "      <td>55.000000</td>\n",
       "      <td>52.799999</td>\n",
       "      <td>55.000000</td>\n",
       "      <td>55.000000</td>\n",
       "      <td>133031485</td>\n",
       "    </tr>\n",
       "    <tr>\n",
       "      <th>2022-08-04</th>\n",
       "      <td>55.700001</td>\n",
       "      <td>56.349998</td>\n",
       "      <td>55.099998</td>\n",
       "      <td>55.299999</td>\n",
       "      <td>55.299999</td>\n",
       "      <td>108646850</td>\n",
       "    </tr>\n",
       "    <tr>\n",
       "      <th>2022-08-05</th>\n",
       "      <td>55.650002</td>\n",
       "      <td>58.400002</td>\n",
       "      <td>55.200001</td>\n",
       "      <td>58.200001</td>\n",
       "      <td>58.200001</td>\n",
       "      <td>99647394</td>\n",
       "    </tr>\n",
       "  </tbody>\n",
       "</table>\n",
       "</div>"
      ],
      "text/plain": [
       "                 Open       High        Low      Close  Adj Close     Volume\n",
       "Date                                                                        \n",
       "2022-08-01  50.750000  51.599998  50.650002  51.500000  51.500000   71659508\n",
       "2022-08-02  51.799999  53.200001  51.650002  52.349998  52.349998  137217705\n",
       "2022-08-03  52.950001  55.000000  52.799999  55.000000  55.000000  133031485\n",
       "2022-08-04  55.700001  56.349998  55.099998  55.299999  55.299999  108646850\n",
       "2022-08-05  55.650002  58.400002  55.200001  58.200001  58.200001   99647394"
      ]
     },
     "execution_count": 3,
     "metadata": {},
     "output_type": "execute_result"
    }
   ],
   "source": [
    "data = yf.download(\"THYAO.IS\",start=\"2022-08-01\",end=\"2022-09-01\")\n",
    "df = data.copy()\n",
    "df.head()"
   ]
  },
  {
   "cell_type": "code",
   "execution_count": 4,
   "id": "f64cfa5b",
   "metadata": {
    "scrolled": false
   },
   "outputs": [
    {
     "data": {
      "text/html": [
       "<div>\n",
       "<style scoped>\n",
       "    .dataframe tbody tr th:only-of-type {\n",
       "        vertical-align: middle;\n",
       "    }\n",
       "\n",
       "    .dataframe tbody tr th {\n",
       "        vertical-align: top;\n",
       "    }\n",
       "\n",
       "    .dataframe thead th {\n",
       "        text-align: right;\n",
       "    }\n",
       "</style>\n",
       "<table border=\"1\" class=\"dataframe\">\n",
       "  <thead>\n",
       "    <tr style=\"text-align: right;\">\n",
       "      <th></th>\n",
       "      <th>Date</th>\n",
       "      <th>Open</th>\n",
       "      <th>High</th>\n",
       "      <th>Low</th>\n",
       "      <th>Close</th>\n",
       "      <th>Adj Close</th>\n",
       "      <th>Volume</th>\n",
       "    </tr>\n",
       "  </thead>\n",
       "  <tbody>\n",
       "    <tr>\n",
       "      <th>0</th>\n",
       "      <td>2022-08-01</td>\n",
       "      <td>50.750000</td>\n",
       "      <td>51.599998</td>\n",
       "      <td>50.650002</td>\n",
       "      <td>51.500000</td>\n",
       "      <td>51.500000</td>\n",
       "      <td>71659508</td>\n",
       "    </tr>\n",
       "    <tr>\n",
       "      <th>1</th>\n",
       "      <td>2022-08-02</td>\n",
       "      <td>51.799999</td>\n",
       "      <td>53.200001</td>\n",
       "      <td>51.650002</td>\n",
       "      <td>52.349998</td>\n",
       "      <td>52.349998</td>\n",
       "      <td>137217705</td>\n",
       "    </tr>\n",
       "    <tr>\n",
       "      <th>2</th>\n",
       "      <td>2022-08-03</td>\n",
       "      <td>52.950001</td>\n",
       "      <td>55.000000</td>\n",
       "      <td>52.799999</td>\n",
       "      <td>55.000000</td>\n",
       "      <td>55.000000</td>\n",
       "      <td>133031485</td>\n",
       "    </tr>\n",
       "    <tr>\n",
       "      <th>3</th>\n",
       "      <td>2022-08-04</td>\n",
       "      <td>55.700001</td>\n",
       "      <td>56.349998</td>\n",
       "      <td>55.099998</td>\n",
       "      <td>55.299999</td>\n",
       "      <td>55.299999</td>\n",
       "      <td>108646850</td>\n",
       "    </tr>\n",
       "    <tr>\n",
       "      <th>4</th>\n",
       "      <td>2022-08-05</td>\n",
       "      <td>55.650002</td>\n",
       "      <td>58.400002</td>\n",
       "      <td>55.200001</td>\n",
       "      <td>58.200001</td>\n",
       "      <td>58.200001</td>\n",
       "      <td>99647394</td>\n",
       "    </tr>\n",
       "  </tbody>\n",
       "</table>\n",
       "</div>"
      ],
      "text/plain": [
       "        Date       Open       High        Low      Close  Adj Close     Volume\n",
       "0 2022-08-01  50.750000  51.599998  50.650002  51.500000  51.500000   71659508\n",
       "1 2022-08-02  51.799999  53.200001  51.650002  52.349998  52.349998  137217705\n",
       "2 2022-08-03  52.950001  55.000000  52.799999  55.000000  55.000000  133031485\n",
       "3 2022-08-04  55.700001  56.349998  55.099998  55.299999  55.299999  108646850\n",
       "4 2022-08-05  55.650002  58.400002  55.200001  58.200001  58.200001   99647394"
      ]
     },
     "execution_count": 4,
     "metadata": {},
     "output_type": "execute_result"
    }
   ],
   "source": [
    "#Sadece Adj Close ve Tarihi alıyoruz\n",
    "#Tarih indekslenmiş olduğu için onu öncelikle indeksten kurtarıyoruz\n",
    "df = df.reset_index()\n",
    "df.head()"
   ]
  },
  {
   "cell_type": "code",
   "execution_count": 5,
   "id": "98dc27aa",
   "metadata": {},
   "outputs": [
    {
     "data": {
      "text/plain": [
       "0    2022-08-01\n",
       "1    2022-08-02\n",
       "2    2022-08-03\n",
       "3    2022-08-04\n",
       "4    2022-08-05\n",
       "5    2022-08-08\n",
       "6    2022-08-09\n",
       "7    2022-08-10\n",
       "8    2022-08-11\n",
       "9    2022-08-12\n",
       "10   2022-08-15\n",
       "11   2022-08-16\n",
       "12   2022-08-17\n",
       "13   2022-08-18\n",
       "14   2022-08-19\n",
       "15   2022-08-22\n",
       "16   2022-08-23\n",
       "17   2022-08-24\n",
       "18   2022-08-25\n",
       "19   2022-08-26\n",
       "20   2022-08-29\n",
       "21   2022-08-31\n",
       "Name: Date, dtype: datetime64[ns]"
      ]
     },
     "execution_count": 5,
     "metadata": {},
     "output_type": "execute_result"
    }
   ],
   "source": [
    "#Tarih sütununu parçalayıp sadece gün değerini almak istiyorum\n",
    "df[\"Date\"]"
   ]
  },
  {
   "cell_type": "code",
   "execution_count": 6,
   "id": "6a48f73d",
   "metadata": {},
   "outputs": [
    {
     "data": {
      "text/plain": [
       "0     2022-08-01\n",
       "1     2022-08-02\n",
       "2     2022-08-03\n",
       "3     2022-08-04\n",
       "4     2022-08-05\n",
       "5     2022-08-08\n",
       "6     2022-08-09\n",
       "7     2022-08-10\n",
       "8     2022-08-11\n",
       "9     2022-08-12\n",
       "10    2022-08-15\n",
       "11    2022-08-16\n",
       "12    2022-08-17\n",
       "13    2022-08-18\n",
       "14    2022-08-19\n",
       "15    2022-08-22\n",
       "16    2022-08-23\n",
       "17    2022-08-24\n",
       "18    2022-08-25\n",
       "19    2022-08-26\n",
       "20    2022-08-29\n",
       "21    2022-08-31\n",
       "Name: Date, dtype: object"
      ]
     },
     "execution_count": 6,
     "metadata": {},
     "output_type": "execute_result"
    }
   ],
   "source": [
    "df[\"Date\"].astype(str) #Parçalama işlemi yapabilmek için öncelikle str'e çevirmemiz gerekiyor"
   ]
  },
  {
   "cell_type": "code",
   "execution_count": 7,
   "id": "74a5a995",
   "metadata": {},
   "outputs": [
    {
     "data": {
      "text/plain": [
       "0     [2022, 08, 01]\n",
       "1     [2022, 08, 02]\n",
       "2     [2022, 08, 03]\n",
       "3     [2022, 08, 04]\n",
       "4     [2022, 08, 05]\n",
       "5     [2022, 08, 08]\n",
       "6     [2022, 08, 09]\n",
       "7     [2022, 08, 10]\n",
       "8     [2022, 08, 11]\n",
       "9     [2022, 08, 12]\n",
       "10    [2022, 08, 15]\n",
       "11    [2022, 08, 16]\n",
       "12    [2022, 08, 17]\n",
       "13    [2022, 08, 18]\n",
       "14    [2022, 08, 19]\n",
       "15    [2022, 08, 22]\n",
       "16    [2022, 08, 23]\n",
       "17    [2022, 08, 24]\n",
       "18    [2022, 08, 25]\n",
       "19    [2022, 08, 26]\n",
       "20    [2022, 08, 29]\n",
       "21    [2022, 08, 31]\n",
       "Name: Date, dtype: object"
      ]
     },
     "execution_count": 7,
     "metadata": {},
     "output_type": "execute_result"
    }
   ],
   "source": [
    "df[\"Date\"].astype(str).str.split(\"-\")"
   ]
  },
  {
   "cell_type": "code",
   "execution_count": 8,
   "id": "25cf630c",
   "metadata": {},
   "outputs": [
    {
     "data": {
      "text/plain": [
       "0     01\n",
       "1     02\n",
       "2     03\n",
       "3     04\n",
       "4     05\n",
       "5     08\n",
       "6     09\n",
       "7     10\n",
       "8     11\n",
       "9     12\n",
       "10    15\n",
       "11    16\n",
       "12    17\n",
       "13    18\n",
       "14    19\n",
       "15    22\n",
       "16    23\n",
       "17    24\n",
       "18    25\n",
       "19    26\n",
       "20    29\n",
       "21    31\n",
       "Name: Date, dtype: object"
      ]
     },
     "execution_count": 8,
     "metadata": {},
     "output_type": "execute_result"
    }
   ],
   "source": [
    "df[\"Date\"].astype(str).str.split(\"-\").str[2] # str[2] = Listenin içinde index numarası 2 olanları getiriyoruz"
   ]
  },
  {
   "cell_type": "code",
   "execution_count": 9,
   "id": "336a2b14",
   "metadata": {},
   "outputs": [],
   "source": [
    "df[\"Day\"] = df[\"Date\"].astype(str).str.split(\"-\").str[2]"
   ]
  },
  {
   "cell_type": "code",
   "execution_count": 10,
   "id": "fd3e20c6",
   "metadata": {},
   "outputs": [
    {
     "data": {
      "text/html": [
       "<div>\n",
       "<style scoped>\n",
       "    .dataframe tbody tr th:only-of-type {\n",
       "        vertical-align: middle;\n",
       "    }\n",
       "\n",
       "    .dataframe tbody tr th {\n",
       "        vertical-align: top;\n",
       "    }\n",
       "\n",
       "    .dataframe thead th {\n",
       "        text-align: right;\n",
       "    }\n",
       "</style>\n",
       "<table border=\"1\" class=\"dataframe\">\n",
       "  <thead>\n",
       "    <tr style=\"text-align: right;\">\n",
       "      <th></th>\n",
       "      <th>Date</th>\n",
       "      <th>Open</th>\n",
       "      <th>High</th>\n",
       "      <th>Low</th>\n",
       "      <th>Close</th>\n",
       "      <th>Adj Close</th>\n",
       "      <th>Volume</th>\n",
       "      <th>Day</th>\n",
       "    </tr>\n",
       "  </thead>\n",
       "  <tbody>\n",
       "    <tr>\n",
       "      <th>0</th>\n",
       "      <td>2022-08-01</td>\n",
       "      <td>50.750000</td>\n",
       "      <td>51.599998</td>\n",
       "      <td>50.650002</td>\n",
       "      <td>51.500000</td>\n",
       "      <td>51.500000</td>\n",
       "      <td>71659508</td>\n",
       "      <td>01</td>\n",
       "    </tr>\n",
       "    <tr>\n",
       "      <th>1</th>\n",
       "      <td>2022-08-02</td>\n",
       "      <td>51.799999</td>\n",
       "      <td>53.200001</td>\n",
       "      <td>51.650002</td>\n",
       "      <td>52.349998</td>\n",
       "      <td>52.349998</td>\n",
       "      <td>137217705</td>\n",
       "      <td>02</td>\n",
       "    </tr>\n",
       "    <tr>\n",
       "      <th>2</th>\n",
       "      <td>2022-08-03</td>\n",
       "      <td>52.950001</td>\n",
       "      <td>55.000000</td>\n",
       "      <td>52.799999</td>\n",
       "      <td>55.000000</td>\n",
       "      <td>55.000000</td>\n",
       "      <td>133031485</td>\n",
       "      <td>03</td>\n",
       "    </tr>\n",
       "    <tr>\n",
       "      <th>3</th>\n",
       "      <td>2022-08-04</td>\n",
       "      <td>55.700001</td>\n",
       "      <td>56.349998</td>\n",
       "      <td>55.099998</td>\n",
       "      <td>55.299999</td>\n",
       "      <td>55.299999</td>\n",
       "      <td>108646850</td>\n",
       "      <td>04</td>\n",
       "    </tr>\n",
       "    <tr>\n",
       "      <th>4</th>\n",
       "      <td>2022-08-05</td>\n",
       "      <td>55.650002</td>\n",
       "      <td>58.400002</td>\n",
       "      <td>55.200001</td>\n",
       "      <td>58.200001</td>\n",
       "      <td>58.200001</td>\n",
       "      <td>99647394</td>\n",
       "      <td>05</td>\n",
       "    </tr>\n",
       "  </tbody>\n",
       "</table>\n",
       "</div>"
      ],
      "text/plain": [
       "        Date       Open       High        Low      Close  Adj Close  \\\n",
       "0 2022-08-01  50.750000  51.599998  50.650002  51.500000  51.500000   \n",
       "1 2022-08-02  51.799999  53.200001  51.650002  52.349998  52.349998   \n",
       "2 2022-08-03  52.950001  55.000000  52.799999  55.000000  55.000000   \n",
       "3 2022-08-04  55.700001  56.349998  55.099998  55.299999  55.299999   \n",
       "4 2022-08-05  55.650002  58.400002  55.200001  58.200001  58.200001   \n",
       "\n",
       "      Volume Day  \n",
       "0   71659508  01  \n",
       "1  137217705  02  \n",
       "2  133031485  03  \n",
       "3  108646850  04  \n",
       "4   99647394  05  "
      ]
     },
     "execution_count": 10,
     "metadata": {},
     "output_type": "execute_result"
    }
   ],
   "source": [
    "df.head()"
   ]
  },
  {
   "cell_type": "code",
   "execution_count": 11,
   "id": "7ebcf97d",
   "metadata": {},
   "outputs": [],
   "source": [
    "y = df[\"Adj Close\"]\n",
    "X = df[\"Day\"]"
   ]
  },
  {
   "cell_type": "code",
   "execution_count": 12,
   "id": "e77557cf",
   "metadata": {},
   "outputs": [],
   "source": [
    "#Veri setimiz küçük olduğu için train ve test ile çalışmayacağımız için verileri numpy ile array'e çeviriyoruz\n",
    "y = np.array(y).reshape(-1,1)\n",
    "X = np.array(X).reshape(-1,1)"
   ]
  },
  {
   "cell_type": "code",
   "execution_count": 13,
   "id": "cb500e5b",
   "metadata": {},
   "outputs": [],
   "source": [
    "#Verileri SVR modeline çevirmeden önce standartlaştırma işlemi yapıyoruz\n",
    "scy = StandardScaler()\n",
    "scx = StandardScaler()\n",
    "\n",
    "X = scx.fit_transform(X)\n",
    "y = scy.fit_transform(y)"
   ]
  },
  {
   "cell_type": "code",
   "execution_count": 14,
   "id": "67171e49",
   "metadata": {},
   "outputs": [],
   "source": [
    "svr_rbf = SVR(kernel=\"rbf\", C=10000)\n",
    "svr_rbf.fit(X,y.ravel())\n",
    "tahminRBF = svr_rbf.predict(X)\n",
    "\n",
    "svr_lin = SVR(kernel=\"linear\")\n",
    "svr_lin.fit(X,y.ravel())\n",
    "tahminLIN = svr_lin.predict(X)\n",
    "\n",
    "svr_poly = SVR(kernel=\"poly\",degree=5)\n",
    "svr_poly.fit(X,y.ravel())\n",
    "tahminPOLY = svr_poly.predict(X)"
   ]
  },
  {
   "cell_type": "code",
   "execution_count": 15,
   "id": "398fba55",
   "metadata": {},
   "outputs": [
    {
     "data": {
      "image/png": "[encoded data removed]",
      "text/plain": [
       "<Figure size 640x480 with 1 Axes>"
      ]
     },
     "metadata": {},
     "output_type": "display_data"
    }
   ],
   "source": [
    "plt.scatter(X,y, color=\"red\")\n",
    "plt.plot(X,tahminRBF,color=\"green\",label=\"RBF Model\")\n",
    "plt.plot(X,tahminLIN,color=\"blue\",label=\"Linear Model\")\n",
    "plt.plot(X,tahminPOLY,color=\"black\",label=\"Poly Model\")\n",
    "plt.legend()\n",
    "plt.show()"
   ]
  },
  {
   "cell_type": "code",
   "execution_count": 16,
   "id": "27967547",
   "metadata": {},
   "outputs": [
    {
     "name": "stdout",
     "output_type": "stream",
     "text": [
      "R2: 0.9862389491922449 RMSE: 0.11730750533429263\n"
     ]
    },
    {
     "data": {
      "image/png": "[encoded data removed]",
      "text/plain": [
       "<Figure size 640x480 with 1 Axes>"
      ]
     },
     "metadata": {},
     "output_type": "display_data"
    }
   ],
   "source": [
    "#En iyi çalıştığını gözlemlediğimiz yapı RBF modeli oluyor\n",
    "\n",
    "r2 = mt.r2_score(y,tahminRBF)\n",
    "rmse = mt.mean_squared_error(y,tahminRBF,squared=False)\n",
    "\n",
    "print(f\"R2: {r2} RMSE: {rmse}\")\n",
    "\n",
    "plt.scatter(X,y, color=\"red\")\n",
    "plt.plot(X,tahminRBF,color=\"green\",label=\"RBF Model\")\n",
    "plt.legend()\n",
    "plt.show()"
   ]
  },
  {
   "cell_type": "code",
   "execution_count": 17,
   "id": "2f9e7332",
   "metadata": {},
   "outputs": [],
   "source": [
    "#DERS 38"
   ]
  },
  {
   "cell_type": "code",
   "execution_count": 18,
   "id": "f85bd948",
   "metadata": {},
   "outputs": [],
   "source": [
    "from sklearn.model_selection import GridSearchCV"
   ]
  },
  {
   "cell_type": "code",
   "execution_count": 19,
   "id": "c524997d",
   "metadata": {},
   "outputs": [],
   "source": [
    "#Hyperparametre işlemlerini halletme\n",
    "\n",
    "#kernel: {‘linear’, ‘poly’, ‘rbf’, ‘sigmoid’, ‘precomputed’} or callable, default=’rbf’\n",
    "\n",
    "#degree: int, default=3\n",
    "\n",
    "#gamma: {‘scale’, ‘auto’} or float, default=’scale’\n",
    "\n",
    "#Cfloat, default=1.0"
   ]
  },
  {
   "cell_type": "code",
   "execution_count": 20,
   "id": "a4f24a05",
   "metadata": {},
   "outputs": [
    {
     "name": "stdout",
     "output_type": "stream",
     "text": [
      "{'C': 100, 'gamma': 1, 'kernel': 'rbf'}\n"
     ]
    }
   ],
   "source": [
    "parametreler = {\n",
    "    \"C\": [1,10,100,10000],#Bu liste içine bir aralık veya sabit bir değer verebilirim. Yani aslında demek istenilen şu:\n",
    "    #Sen hangi aralıkta denenmesini istiyorsun. 1 diye deneyecek, 10 diye deneyecek, 100 diye deneyecek\n",
    "    #en son da 10000 diye deneyecek. Aralarında en optimal oranı kullanıcak\n",
    "    \"gamma\": [1,0.1,0.001],\n",
    "    \"kernel\": [\"linear\", \"poly\", \"rbf\"]\n",
    "}\n",
    "#estimator= Yöntem\n",
    "#param_grid= Denenmesini istediğim parametreler\n",
    "tuning = GridSearchCV(estimator=SVR(),param_grid=parametreler,cv=10)\n",
    "tuning.fit(X,y.ravel())\n",
    "print(tuning.best_params_)"
   ]
  },
  {
   "cell_type": "code",
   "execution_count": null,
   "id": "ea7615f0",
   "metadata": {},
   "outputs": [],
   "source": [
    "#Optimal olmadan önce normal şekilde yaptığımızda aldığımız değerler bunlar\n",
    "svr_rbf = SVR()\n",
    "svr_rbf.fit(X,y.ravel())\n",
    "tahminRBF = svr_rbf.predict(X)\n",
    "\n",
    "r2 = mt.r2_score(y,tahminRBF)\n",
    "rmse = mt.mean_squared_error(y,tahminRBF,squared=False)\n",
    "\n",
    "print(f\"R2: {r2} RMSE: {rmse}\")\n",
    "\n",
    "plt.scatter(X,y, color=\"red\")\n",
    "plt.plot(X,tahminRBF,color=\"green\",label=\"RBF Model\")\n",
    "plt.legend()\n",
    "plt.show()"
   ]
  },
  {
   "cell_type": "code",
   "execution_count": null,
   "id": "62c01686",
   "metadata": {},
   "outputs": [],
   "source": [
    "#Optimal olarak yaptığımızda aldığımız değerler bunlar\n",
    "svr_rbf = SVR(kernel=\"rbf\",C=100,gamma=1)\n",
    "svr_rbf.fit(X,y.ravel())\n",
    "tahminRBF = svr_rbf.predict(X)\n",
    "\n",
    "r2 = mt.r2_score(y,tahminRBF)\n",
    "rmse = mt.mean_squared_error(y,tahminRBF,squared=False)\n",
    "\n",
    "print(f\"R2: {r2} RMSE: {rmse}\")\n",
    "\n",
    "plt.scatter(X,y, color=\"red\")\n",
    "plt.plot(X,tahminRBF,color=\"green\",label=\"RBF Model\")\n",
    "plt.legend()\n",
    "plt.show()"
   ]
  }
 ],
 "metadata": {
  "kernelspec": {
   "display_name": "Python 3 (ipykernel)",
   "language": "python",
   "name": "python3"
  },
  "language_info": {
   "codemirror_mode": {
    "name": "ipython",
    "version": 3
   },
   "file_extension": ".py",
   "mimetype": "text/x-python",
   "name": "python",
   "nbconvert_exporter": "python",
   "pygments_lexer": "ipython3",
   "version": "3.11.4"
  }
 },
 "nbformat": 4,
 "nbformat_minor": 5
}
