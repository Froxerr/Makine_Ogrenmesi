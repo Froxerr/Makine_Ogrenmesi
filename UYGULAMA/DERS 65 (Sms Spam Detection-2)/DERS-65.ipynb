{
 "cells": [
  {
   "cell_type": "code",
   "execution_count": null,
   "id": "a7caefec",
   "metadata": {},
   "outputs": [],
   "source": [
    "#DERS 64"
   ]
  },
  {
   "cell_type": "code",
   "execution_count": null,
   "id": "d032e839",
   "metadata": {},
   "outputs": [],
   "source": [
    "import pandas as pd\n",
    "import chardet\n",
    "import matplotlib.pyplot as plt\n",
    "import re \n",
    "from sklearn.preprocessing import LabelEncoder\n",
    "import nltk\n",
    "nltk.download(\"stopwords\") \n",
    "from nltk.corpus import stopwords\n",
    "from sklearn.feature_extraction.text import CountVectorizer\n",
    "from sklearn.model_selection import train_test_split\n",
    "from sklearn.naive_bayes import MultinomialNB\n",
    "from sklearn.metrics import accuracy_score\n",
    "import numpy as np"
   ]
  },
  {
   "cell_type": "code",
   "execution_count": null,
   "id": "fd6b4070",
   "metadata": {},
   "outputs": [],
   "source": [
    "#Eğer farklı bir coding yapısı varsa o coding yapısını nasıl çözeriz\n",
    "with open(\"spam.csv\",\"rb\") as f:\n",
    "    sonuc = chardet.detect(f.read())\n",
    "print(sonuc)"
   ]
  },
  {
   "cell_type": "code",
   "execution_count": null,
   "id": "e1ea76ae",
   "metadata": {},
   "outputs": [],
   "source": [
    "data = pd.read_csv(\"spam.csv\", encoding = \"Windows-1252\")\n",
    "df = data.copy()\n",
    "df.drop([\"Unnamed: 2\",\"Unnamed: 3\",\"Unnamed: 4\"],axis=1,inplace=True)\n",
    "df"
   ]
  },
  {
   "cell_type": "code",
   "execution_count": null,
   "id": "3efc36e5",
   "metadata": {},
   "outputs": [],
   "source": [
    "df.isnull().sum()"
   ]
  },
  {
   "cell_type": "code",
   "execution_count": null,
   "id": "977345ce",
   "metadata": {},
   "outputs": [],
   "source": [
    "df.dtypes"
   ]
  },
  {
   "cell_type": "code",
   "execution_count": null,
   "id": "33de7d46",
   "metadata": {},
   "outputs": [],
   "source": [
    "df = df.rename(columns={\n",
    "    \"v1\":\"Etiket\",\n",
    "    \"v2\":\"Sms\"\n",
    "})\n",
    "df.head()"
   ]
  },
  {
   "cell_type": "code",
   "execution_count": null,
   "id": "74aeb7fc",
   "metadata": {},
   "outputs": [],
   "source": [
    "df.groupby(\"Etiket\").count()"
   ]
  },
  {
   "cell_type": "code",
   "execution_count": null,
   "id": "f51366c5",
   "metadata": {},
   "outputs": [],
   "source": [
    "df.describe() #unique = tekrarsız olarak duranlar demek bizim için tekrarlı olmaları kötü sonuçta tahmin etme işleminde\n",
    "#o bilgiden fazla olduğu için yanlı bir tahmin etme problemiyle karşı karşıya bırakabilir.\n",
    "#bu yüzden tekrarlayanları silicez\n",
    "df = df.drop_duplicates()\n",
    "df.describe()"
   ]
  },
  {
   "cell_type": "code",
   "execution_count": null,
   "id": "f83454d0",
   "metadata": {},
   "outputs": [],
   "source": [
    "df[\"Karakter Sayısı\"] = df[\"Sms\"].apply(len)\n",
    "df"
   ]
  },
  {
   "cell_type": "code",
   "execution_count": null,
   "id": "57b180d8",
   "metadata": {},
   "outputs": [],
   "source": [
    "df.hist(\"Karakter Sayısı\",by=\"Etiket\",bins=50)\n",
    "plt.show()"
   ]
  },
  {
   "cell_type": "code",
   "execution_count": null,
   "id": "886613cd",
   "metadata": {},
   "outputs": [],
   "source": [
    "le = LabelEncoder()\n",
    "df[\"Etiket\"] = le.fit_transform(df[\"Etiket\"])\n",
    "df"
   ]
  },
  {
   "cell_type": "code",
   "execution_count": null,
   "id": "9612967b",
   "metadata": {},
   "outputs": [],
   "source": [
    "#re.sub(\"[^a-zA-Z]\",\" \",df[\"Sms\"][0]) = a-z = Küçük harflerin a'dan z'ye dolaş | Büyük harflerin A'dan Z'ye dolaş\n",
    "#^ Bu dolaştıkların haricinde anlamı katar\n",
    "#, \"\" = \"\" İçinde ne yazarsa bu dolaştıkların haricinde o ile doldur biz boşluk verdik yani rakamlar diğer şeyler gidicek.\n",
    "mesaj = re.sub(\"[^a-zA-Z]\",\" \",df[\"Sms\"][0])\n",
    "print(df[\"Sms\"][0])\n",
    "print(mesaj)"
   ]
  },
  {
   "cell_type": "code",
   "execution_count": null,
   "id": "65af561d",
   "metadata": {},
   "outputs": [],
   "source": [
    "def harfler(cumle):\n",
    "    #re.compile(\"[^a-zA-Z]\") = Alfabade bulunan değerleri topla ve yer adlı değişkene ata\n",
    "    yer = re.compile(\"[^a-zA-Z]\")\n",
    "    return re.sub(yer,\" \",cumle)\n",
    "print(harfler(\"tuy11RTF\"))"
   ]
  },
  {
   "cell_type": "code",
   "execution_count": null,
   "id": "aadef850",
   "metadata": {},
   "outputs": [],
   "source": [
    "print(df[\"Sms\"][0])\n",
    "print(harfler(df[\"Sms\"][0]))\n",
    "print(df[\"Sms\"][0].lower())"
   ]
  },
  {
   "cell_type": "code",
   "execution_count": null,
   "id": "5fbc13e8",
   "metadata": {},
   "outputs": [],
   "source": [
    "durdurma = stopwords.words(\"english\")\n",
    "print(durdurma)"
   ]
  },
  {
   "cell_type": "code",
   "execution_count": null,
   "id": "3ca0fd72",
   "metadata": {},
   "outputs": [],
   "source": [
    "#DERS 65"
   ]
  },
  {
   "cell_type": "code",
   "execution_count": null,
   "id": "fcbc373b",
   "metadata": {},
   "outputs": [],
   "source": [
    "print(df[\"Sms\"][0])\n",
    "print(df[\"Sms\"][1])\n",
    "print(df[\"Sms\"][2])"
   ]
  },
  {
   "cell_type": "code",
   "execution_count": null,
   "id": "bd433576",
   "metadata": {},
   "outputs": [],
   "source": [
    "durdurma = set(stopwords.words(\"english\"))\n",
    "def clean(text):\n",
    "    temiz_kelimeler = []\n",
    "    text = text.split()\n",
    "    for i in text:\n",
    "        if i not in durdurma:\n",
    "            temiz_kelimeler.append(i)\n",
    "        else:\n",
    "            \"A\"\n",
    "    return temiz_kelimeler"
   ]
  },
  {
   "cell_type": "code",
   "execution_count": null,
   "id": "a7b4c055",
   "metadata": {},
   "outputs": [],
   "source": [
    "spam = []\n",
    "ham = []\n",
    "tum_cumleler = []\n",
    "\n",
    "for i in range(len(df[\"Sms\"].values)):\n",
    "    r1 = df[\"Sms\"].values[i]\n",
    "    r2 = df[\"Etiket\"].values[i]\n",
    "    \n",
    "    temizcumle = []\n",
    "    cumleler = harfler(r1)\n",
    "    cumleler = cumleler.lower()\n",
    "    \n",
    "    for kelimeler in clean(cumleler):\n",
    "        temizcumle.append(kelimeler)\n",
    "        \n",
    "        if r2 == 1:\n",
    "            spam.append(cumleler)\n",
    "        else:\n",
    "            ham.append(cumleler)\n",
    "    tum_cumleler.append(\" \".join(temizcumle))\n",
    "    \n",
    "df[\"Yeni Sms\"] = tum_cumleler\n",
    "\n",
    "df.drop([\"Sms\",\"Karakter Sayısı\"],axis=1,inplace=True)"
   ]
  },
  {
   "cell_type": "code",
   "execution_count": null,
   "id": "7dbd8c28",
   "metadata": {},
   "outputs": [],
   "source": [
    "print(df[\"Yeni Sms\"][0])\n",
    "print(df[\"Yeni Sms\"][1])\n",
    "print(df[\"Yeni Sms\"][2])"
   ]
  },
  {
   "cell_type": "code",
   "execution_count": null,
   "id": "3113c77f",
   "metadata": {},
   "outputs": [],
   "source": [
    "cv = CountVectorizer()\n",
    "x = cv.fit_transform(df[\"Yeni Sms\"]).toarray()"
   ]
  },
  {
   "cell_type": "code",
   "execution_count": null,
   "id": "836d00f1",
   "metadata": {},
   "outputs": [],
   "source": [
    "y = df[\"Etiket\"]\n",
    "X = x\n",
    "\n",
    "X_train,X_test,y_train,y_test = train_test_split(X,y,test_size=0.2,random_state=42)\n",
    "\n",
    "model = MultinomialNB()\n",
    "model.fit(X_train,y_train)\n",
    "tahmin = model.predict(X_test)\n",
    "\n",
    "acs = accuracy_score(y_test,tahmin)\n",
    "print(acs*100)\n",
    "\n",
    "for i in np.arange(0.0,1.1,0.1):\n",
    "    model = MultinomialNB(alpha=i)\n",
    "    model.fit(X_train,y_train)\n",
    "    tahmin = model.predict(X_test)\n",
    "    skor = accuracy_score(y_test,tahmin)\n",
    "    print(f\"Alfa {round(i,1)} değeri için Skor: {round(skor*100,2)}\")"
   ]
  }
 ],
 "metadata": {
  "kernelspec": {
   "display_name": "Python 3 (ipykernel)",
   "language": "python",
   "name": "python3"
  },
  "language_info": {
   "codemirror_mode": {
    "name": "ipython",
    "version": 3
   },
   "file_extension": ".py",
   "mimetype": "text/x-python",
   "name": "python",
   "nbconvert_exporter": "python",
   "pygments_lexer": "ipython3",
   "version": "3.11.4"
  }
 },
 "nbformat": 4,
 "nbformat_minor": 5
}
