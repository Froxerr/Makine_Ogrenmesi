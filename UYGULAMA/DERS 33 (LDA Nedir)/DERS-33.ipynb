{
 "cells": [
  {
   "cell_type": "code",
   "execution_count": null,
   "id": "28c1067e",
   "metadata": {},
   "outputs": [],
   "source": [
    "import pandas as pd\n",
    "from sklearn.model_selection import train_test_split\n",
    "from sklearn.preprocessing import StandardScaler\n",
    "from sklearn.discriminant_analysis import LinearDiscriminantAnalysis\n",
    "import numpy as np"
   ]
  },
  {
   "cell_type": "code",
   "execution_count": null,
   "id": "43998405",
   "metadata": {},
   "outputs": [],
   "source": [
    "data = pd.read_csv(\"winequality-red.csv\")\n",
    "df = data.copy()\n",
    "df.head()"
   ]
  },
  {
   "cell_type": "code",
   "execution_count": null,
   "id": "0af70e9a",
   "metadata": {},
   "outputs": [],
   "source": [
    "#Principal Component Analysis (PCA) (Temel Bileşenler Analizi) KURULUMU\n",
    "y = df[\"quality\"]\n",
    "X = df.drop(\"quality\",axis=1)\n",
    "\n",
    "X_train,X_test,y_train,y_test = train_test_split(X,y,test_size=0.2,random_state=42)\n",
    "\n",
    "\n",
    "#Elimizdeki bağımsız değişken yapılarını standartlaştırma işlemi yapıyoruz\n",
    "sc = StandardScaler()\n",
    "X_train = sc.fit_transform(X_train)\n",
    "X_test = sc.transform(X_test)\n",
    "\n",
    "\n",
    "lda = LinearDiscriminantAnalysis(n_components=5) #Sen en fazla 5 tane veri seçebilirsin, diyor, \n",
    "#fazlası hata sebebiyet veriyor\n",
    " \n",
    "\n",
    "X_train2 = lda.fit_transform(X_train,y_train)#PCA arasındaki en büyük fark, PCA'da sadece X_train'i yollarken\n",
    "#burada y_train'i de yolluyoruz\n",
    "X_test2 = lda.transform(X_test)\n",
    "\n",
    "print(np.cumsum(lda.explained_variance_ratio_)*100)"
   ]
  }
 ],
 "metadata": {
  "kernelspec": {
   "display_name": "Python 3 (ipykernel)",
   "language": "python",
   "name": "python3"
  },
  "language_info": {
   "codemirror_mode": {
    "name": "ipython",
    "version": 3
   },
   "file_extension": ".py",
   "mimetype": "text/x-python",
   "name": "python",
   "nbconvert_exporter": "python",
   "pygments_lexer": "ipython3",
   "version": "3.11.4"
  }
 },
 "nbformat": 4,
 "nbformat_minor": 5
}
