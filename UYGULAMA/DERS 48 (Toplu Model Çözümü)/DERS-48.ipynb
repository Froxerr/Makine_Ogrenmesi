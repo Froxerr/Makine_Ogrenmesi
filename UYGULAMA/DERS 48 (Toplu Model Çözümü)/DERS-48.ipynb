{
 "cells": [
  {
   "cell_type": "code",
   "execution_count": null,
   "id": "e2f1d32c",
   "metadata": {},
   "outputs": [],
   "source": [
    "import pandas as pd\n",
    "from sklearn.model_selection import train_test_split\n",
    "from sklearn.linear_model import LinearRegression, Ridge,Lasso,ElasticNet\n",
    "from sklearn.svm import SVR\n",
    "from sklearn.tree import DecisionTreeRegressor\n",
    "from sklearn.ensemble import BaggingRegressor,RandomForestRegressor\n",
    "import sklearn.metrics as mt"
   ]
  },
  {
   "cell_type": "code",
   "execution_count": null,
   "id": "051dddeb",
   "metadata": {},
   "outputs": [],
   "source": [
    "data = pd.read_csv(\"advertising.csv\")\n",
    "df = data.copy()\n",
    "df.head()"
   ]
  },
  {
   "cell_type": "code",
   "execution_count": null,
   "id": "4c68b8a8",
   "metadata": {},
   "outputs": [],
   "source": [
    "df.isnull().sum()"
   ]
  },
  {
   "cell_type": "code",
   "execution_count": null,
   "id": "eebb30d8",
   "metadata": {},
   "outputs": [],
   "source": [
    "y = df[\"Sales\"]\n",
    "X = df.drop(\"Sales\", axis=1)\n",
    "\n",
    "X_train,X_test,y_train,y_test = train_test_split(X,y,test_size=0.1,random_state=42)\n",
    "\n",
    "def modeltahmin(model):\n",
    "    model.fit(X_train,y_train)\n",
    "    tahmin = model.predict(X_test)\n",
    "    r2 = mt.r2_score(y_test,tahmin)\n",
    "    rmse = mt.mean_squared_error(y_test,tahmin,squared=False)\n",
    "    return [r2,rmse]\n",
    "print(modeltahmin(LinearRegression()))"
   ]
  },
  {
   "cell_type": "code",
   "execution_count": null,
   "id": "20c7f226",
   "metadata": {},
   "outputs": [],
   "source": [
    "#Polinom eklenecek ve Hyperparametre halledilecek\n",
    "modeller = [LinearRegression(), \n",
    "            Ridge(),\n",
    "            Lasso(),\n",
    "            ElasticNet(),\n",
    "            SVR(),\n",
    "            DecisionTreeRegressor(random_state=0),\n",
    "            BaggingRegressor(random_state=0),\n",
    "            RandomForestRegressor(random_state=0)\n",
    "           ]\n",
    "ad = [\"Linear Model\",\"Ridge Model\",\"Lasso Model\",\"ElasticNet Model\",\"SVR Model\",\"Karar Ağacı Modeli\",\"Bagging Model\",\n",
    "     \"Random Forest Model\"]\n",
    "sonuc = [modeltahmin(i) for i in modeller]\n",
    "\n",
    "veri = pd.DataFrame(ad,columns=[\"Model Adı\"])\n",
    "veri2 = pd.DataFrame(sonuc,columns=[\"R2\",\"RMSE\"])\n",
    "veri2\n",
    "\n",
    "veri = veri.join(veri2)\n",
    "veri"
   ]
  }
 ],
 "metadata": {
  "kernelspec": {
   "display_name": "Python 3 (ipykernel)",
   "language": "python",
   "name": "python3"
  },
  "language_info": {
   "codemirror_mode": {
    "name": "ipython",
    "version": 3
   },
   "file_extension": ".py",
   "mimetype": "text/x-python",
   "name": "python",
   "nbconvert_exporter": "python",
   "pygments_lexer": "ipython3",
   "version": "3.11.4"
  }
 },
 "nbformat": 4,
 "nbformat_minor": 5
}
