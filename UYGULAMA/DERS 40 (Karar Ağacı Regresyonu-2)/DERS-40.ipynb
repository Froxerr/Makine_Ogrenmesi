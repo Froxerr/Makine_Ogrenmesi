{
 "cells": [
  {
   "cell_type": "code",
   "execution_count": null,
   "id": "d9ab30b0",
   "metadata": {},
   "outputs": [],
   "source": [
    "import pandas as pd\n",
    "import numpy as np\n",
    "from sklearn.tree import DecisionTreeRegressor,plot_tree\n",
    "import matplotlib.pyplot as plt"
   ]
  },
  {
   "cell_type": "code",
   "execution_count": null,
   "id": "05756c7f",
   "metadata": {},
   "outputs": [],
   "source": [
    "data = pd.read_csv(\"Position_Salaries.csv\")\n",
    "df = data.copy()\n",
    "df.head()"
   ]
  },
  {
   "cell_type": "code",
   "execution_count": null,
   "id": "bef77805",
   "metadata": {},
   "outputs": [],
   "source": [
    "y = df[\"Salary\"]\n",
    "X = df[\"Level\"]\n",
    "\n",
    "y = np.array(y).reshape(-1,1)\n",
    "X = np.array(X).reshape(-1,1)"
   ]
  },
  {
   "cell_type": "code",
   "execution_count": null,
   "id": "2ac7a4f2",
   "metadata": {},
   "outputs": [],
   "source": [
    "dtr = DecisionTreeRegressor(random_state=0,max_leaf_nodes=3)\n",
    "#max_leaf_nodes = Kaç tane parçalama işlemi istiyorsun? Kaç tane ağaç dalı istiyorsun gibi de düşünülebilir\n",
    "dtr.fit(X,y)\n",
    "\n",
    "tahmin = dtr.predict(X)"
   ]
  },
  {
   "cell_type": "code",
   "execution_count": null,
   "id": "2ac7ad86",
   "metadata": {},
   "outputs": [],
   "source": [
    "plt.scatter(X,y,color=\"red\")\n",
    "plt.plot(X,tahmin)\n",
    "plt.show()"
   ]
  },
  {
   "cell_type": "code",
   "execution_count": null,
   "id": "73a79856",
   "metadata": {
    "scrolled": false
   },
   "outputs": [],
   "source": [
    "plt.figure(figsize=(20, 10), dpi=100)\n",
    "#feature_names = Bağımsız değişken\n",
    "#class_names= Birden fazla bağımlı değişken varsa kullanılır\n",
    "plot_tree(dtr, feature_names=[\"Level\"],rounded=True, filled=True)\n",
    "plt.show()\n",
    "#L = feature_names verdiğin yerden 8.5'tan parçalama işlemini yapıyorum\n",
    "#squared_error = Hata kare yapısı \n",
    "#samples = Toplamda 10 örneklemimiz var\n",
    "#value = Ortalaması"
   ]
  }
 ],
 "metadata": {
  "kernelspec": {
   "display_name": "Python 3 (ipykernel)",
   "language": "python",
   "name": "python3"
  },
  "language_info": {
   "codemirror_mode": {
    "name": "ipython",
    "version": 3
   },
   "file_extension": ".py",
   "mimetype": "text/x-python",
   "name": "python",
   "nbconvert_exporter": "python",
   "pygments_lexer": "ipython3",
   "version": "3.11.4"
  }
 },
 "nbformat": 4,
 "nbformat_minor": 5
}
