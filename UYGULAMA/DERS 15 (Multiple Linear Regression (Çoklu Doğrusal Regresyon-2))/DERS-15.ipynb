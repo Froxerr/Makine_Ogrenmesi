{
 "cells": [
  {
   "cell_type": "code",
   "execution_count": null,
   "id": "5de029bc",
   "metadata": {},
   "outputs": [],
   "source": [
    "import pandas as pd\n",
    "from sklearn.impute import SimpleImputer\n",
    "import numpy as np\n",
    "from sklearn.model_selection import train_test_split\n",
    "from sklearn.linear_model import LinearRegression\n",
    "import sklearn.metrics as mt"
   ]
  },
  {
   "cell_type": "code",
   "execution_count": null,
   "id": "0cebd8e3",
   "metadata": {},
   "outputs": [],
   "source": [
    "data = pd.read_csv(\"advertising.csv\")\n",
    "#Veriyi Excel'e çevirip içinden birkaç değeri sileceğiz, böylece eksik veriler ortaya çıkacak. \n",
    "#Bu eksik verilerle nasıl başa çıkacağımızı ele alıyoruz\n",
    "data.to_excel(\"advertising2.xlsx\",index=False)"
   ]
  },
  {
   "cell_type": "code",
   "execution_count": null,
   "id": "18444bed",
   "metadata": {},
   "outputs": [],
   "source": [
    "data = pd.read_excel(\"advertising2.xlsx\")\n",
    "df = data.copy()\n",
    "df.head()"
   ]
  },
  {
   "cell_type": "code",
   "execution_count": null,
   "id": "60020ca4",
   "metadata": {},
   "outputs": [],
   "source": [
    "print(df.isnull().sum())"
   ]
  },
  {
   "cell_type": "code",
   "execution_count": null,
   "id": "00bf96f8",
   "metadata": {},
   "outputs": [],
   "source": [
    "#from sklearn.impute import SimpleImputer = NaN değerlerini doldurmamıza yardımcı olacak yardımcı kütüphane\n",
    "#missing_values = Kayıp değer yapısı nasıl bir yapıda\n",
    "#strategy = Nasıl dolduracak | \"mean\" = ortalama\n",
    "imputer = SimpleImputer(missing_values=np.nan,strategy=\"mean\")\n",
    "imputer = imputer.fit(df)\n",
    "#iloc[:,] = Tüm satırları al\n",
    "#iloc[,:] = Tüm sütunları al\n",
    "#iloc[:,:] = Tüm satır ve sütunları al\n",
    "df.iloc[:,:] = imputer.transform(df)\n",
    "print(df.isnull().sum())\n",
    "df.head()"
   ]
  },
  {
   "cell_type": "code",
   "execution_count": null,
   "id": "459c5489",
   "metadata": {},
   "outputs": [],
   "source": [
    "y = df[\"Sales\"]\n",
    "X = df[[\"TV\",\"Radio\"]]\n",
    "\n",
    "X_train,X_test,y_train,y_test = train_test_split(X,y,test_size=0.2,random_state=42)\n",
    "lr = LinearRegression()\n",
    "lr.fit(X_train,y_train)\n",
    "\n",
    "tahmin = lr.predict(X_test)\n",
    "\n",
    "r2= mt.r2_score(y_test,tahmin)\n",
    "mse = mt.mean_squared_error(y_test,tahmin)\n",
    "rmse = mt.mean_squared_error(y_test,tahmin,squared=False)\n",
    "mae = mt.mean_absolute_error(y_test,tahmin)\n",
    "\n",
    "print(r2,mse,rmse,mae)"
   ]
  }
 ],
 "metadata": {
  "kernelspec": {
   "display_name": "Python 3 (ipykernel)",
   "language": "python",
   "name": "python3"
  },
  "language_info": {
   "codemirror_mode": {
    "name": "ipython",
    "version": 3
   },
   "file_extension": ".py",
   "mimetype": "text/x-python",
   "name": "python",
   "nbconvert_exporter": "python",
   "pygments_lexer": "ipython3",
   "version": "3.11.4"
  }
 },
 "nbformat": 4,
 "nbformat_minor": 5
}
