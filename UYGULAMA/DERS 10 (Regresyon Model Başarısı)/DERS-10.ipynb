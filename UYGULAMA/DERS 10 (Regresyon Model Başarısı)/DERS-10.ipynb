{
 "cells": [
  {
   "cell_type": "code",
   "execution_count": null,
   "id": "6ce89ad4",
   "metadata": {},
   "outputs": [],
   "source": [
    "import pandas as pd\n",
    "import statsmodels.api as sm\n",
    "from sklearn.metrics import mean_squared_error\n",
    "from sklearn.metrics import mean_absolute_error"
   ]
  },
  {
   "cell_type": "code",
   "execution_count": null,
   "id": "ba1a9e20",
   "metadata": {},
   "outputs": [],
   "source": [
    "df = pd.DataFrame(pd.read_excel(\"ornek.xlsx\"))\n",
    "df.head()"
   ]
  },
  {
   "cell_type": "code",
   "execution_count": null,
   "id": "17501df3",
   "metadata": {},
   "outputs": [],
   "source": [
    "y = df[\"Y\"]\n",
    "X = df[[\"X1\",\"X2\"]]\n",
    "sabit = sm.add_constant(X)\n",
    "model = sm.OLS(y,sabit).fit()\n",
    "print(model.summary())"
   ]
  },
  {
   "cell_type": "code",
   "execution_count": null,
   "id": "03fbdd72",
   "metadata": {},
   "outputs": [],
   "source": [
    "#Bana öncelikle y hata lazım\n",
    "tahmin = model.predict(sabit)\n",
    "print(tahmin)\n",
    "#Mean Squared Error \n",
    "#Ortalama hata kareler yöntemi nasıl çalışır python'da\n",
    "mse = mean_squared_error(y,tahmin)\n",
    "print(mse)\n",
    "#Root-Mean-Square\n",
    "rmse = mean_squared_error(y,tahmin,squared=False)\n",
    "print(rmse)\n",
    "#Mean Absolute Error\n",
    "mae = mean_absolute_error(y,tahmin)\n",
    "print(mae)"
   ]
  }
 ],
 "metadata": {
  "kernelspec": {
   "display_name": "Python 3 (ipykernel)",
   "language": "python",
   "name": "python3"
  },
  "language_info": {
   "codemirror_mode": {
    "name": "ipython",
    "version": 3
   },
   "file_extension": ".py",
   "mimetype": "text/x-python",
   "name": "python",
   "nbconvert_exporter": "python",
   "pygments_lexer": "ipython3",
   "version": "3.11.4"
  }
 },
 "nbformat": 4,
 "nbformat_minor": 5
}
