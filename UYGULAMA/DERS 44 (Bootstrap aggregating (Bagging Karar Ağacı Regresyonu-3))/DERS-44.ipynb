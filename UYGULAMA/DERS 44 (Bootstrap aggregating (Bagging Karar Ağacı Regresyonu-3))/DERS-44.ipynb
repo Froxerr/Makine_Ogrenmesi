{
 "cells": [
  {
   "cell_type": "code",
   "execution_count": null,
   "id": "2c8849d5",
   "metadata": {},
   "outputs": [],
   "source": [
    "#DERS 43"
   ]
  },
  {
   "cell_type": "code",
   "execution_count": null,
   "id": "93909788",
   "metadata": {},
   "outputs": [],
   "source": [
    "import pandas as pd\n",
    "from sklearn.model_selection import train_test_split\n",
    "from sklearn.tree import DecisionTreeRegressor\n",
    "import sklearn.metrics as mt\n",
    "from sklearn.ensemble import BaggingRegressor"
   ]
  },
  {
   "cell_type": "code",
   "execution_count": null,
   "id": "afc19af5",
   "metadata": {},
   "outputs": [],
   "source": [
    "data = pd.read_csv(\"advertising.csv\")\n",
    "df = data.copy()\n",
    "df.head()"
   ]
  },
  {
   "cell_type": "code",
   "execution_count": null,
   "id": "1a5d9b6f",
   "metadata": {},
   "outputs": [],
   "source": [
    "y = df[\"Sales\"]\n",
    "X = df.drop(\"Sales\",axis=1)\n",
    "\n",
    "X_train,X_test,y_train,y_test = train_test_split(X,y,test_size=0.2,random_state=42)\n",
    "\n",
    "dtmodel = DecisionTreeRegressor(random_state=0)\n",
    "dtmodel.fit(X_train,y_train)\n",
    "\n",
    "tahmin = dtmodel.predict(X_test)\n",
    "tahmin"
   ]
  },
  {
   "cell_type": "code",
   "execution_count": null,
   "id": "610fd915",
   "metadata": {},
   "outputs": [],
   "source": [
    "r2 = mt.r2_score(y_test,tahmin)\n",
    "rmse = mt.mean_squared_error(y_test,tahmin,squared=False)\n",
    "\n",
    "print(f\"Karar Ağacı R2: {r2},Karar Ağacı RMSE: {rmse}\")"
   ]
  },
  {
   "cell_type": "code",
   "execution_count": null,
   "id": "e66f259b",
   "metadata": {},
   "outputs": [],
   "source": [
    "#Bagging model yapısının kurulumu\n",
    "\n",
    "bgmodel = BaggingRegressor(random_state=0)\n",
    "bgmodel.fit(X_train,y_train)\n",
    "\n",
    "bgtahmin = bgmodel.predict(X_test)\n",
    "\n",
    "r2_2 = mt.r2_score(y_test,bgtahmin)\n",
    "rmse_2 = mt.mean_squared_error(y_test,bgtahmin,squared=False)\n",
    "\n",
    "print(f\"Bagging R2: {r2_2},Bagging RMSE: {rmse_2}\")"
   ]
  },
  {
   "cell_type": "code",
   "execution_count": null,
   "id": "34b143e0",
   "metadata": {},
   "outputs": [],
   "source": [
    "#DERS 44"
   ]
  },
  {
   "cell_type": "code",
   "execution_count": null,
   "id": "1c85a0ff",
   "metadata": {},
   "outputs": [],
   "source": [
    "from sklearn.model_selection import GridSearchCV"
   ]
  },
  {
   "cell_type": "code",
   "execution_count": null,
   "id": "32ac87a5",
   "metadata": {},
   "outputs": [],
   "source": [
    "#DecisionTreeRegressor hyperparameter tuning\n",
    "parametreler = {\n",
    "    \"min_samples_split\":range(2,50),\n",
    "    \"max_leaf_nodes\":range(2,50)\n",
    "}\n",
    "grid1 = GridSearchCV(estimator=dtmodel,param_grid=parametreler,cv=10)\n",
    "grid1.fit(X_train,y_train)\n",
    "print(grid1.best_params_)"
   ]
  },
  {
   "cell_type": "code",
   "execution_count": null,
   "id": "837a2648",
   "metadata": {},
   "outputs": [],
   "source": [
    "#BaggingRegressor hyperparameter tuning\n",
    "\n",
    "parametreler2 = {\n",
    "    \"n_estimators\":range(2,25)\n",
    "}\n",
    "grid2 = GridSearchCV(estimator=bgmodel,param_grid=parametreler2,cv=10)\n",
    "grid2.fit(X_train,y_train)\n",
    "print(grid2.best_params_)"
   ]
  },
  {
   "cell_type": "code",
   "execution_count": null,
   "id": "9dc52151",
   "metadata": {},
   "outputs": [],
   "source": [
    "#DecisionTreeRegressor için düzenlemeler\n",
    "\n",
    "dtmodel = DecisionTreeRegressor(random_state=0,max_leaf_nodes=18,min_samples_split=4)\n",
    "dtmodel.fit(X_train,y_train)\n",
    "\n",
    "tahmin = dtmodel.predict(X_test)\n",
    "\n",
    "r2 = mt.r2_score(y_test,tahmin)\n",
    "rmse = mt.mean_squared_error(y_test,tahmin,squared=False)\n",
    "\n",
    "print(f\"Karar Ağacı R2: {r2},Karar Ağacı RMSE: {rmse}\")"
   ]
  },
  {
   "cell_type": "code",
   "execution_count": null,
   "id": "641104ee",
   "metadata": {},
   "outputs": [],
   "source": [
    "#BaggingRegressor için düzenlemeler\n",
    "\n",
    "bgmodel = BaggingRegressor(random_state=0,n_estimators=23)\n",
    "bgmodel.fit(X_train,y_train)\n",
    "\n",
    "bgtahmin = bgmodel.predict(X_test)\n",
    "\n",
    "r2_2 = mt.r2_score(y_test,bgtahmin)\n",
    "rmse_2 = mt.mean_squared_error(y_test,bgtahmin,squared=False)\n",
    "\n",
    "print(f\"Bagging R2: {r2_2},Bagging RMSE: {rmse_2}\")"
   ]
  }
 ],
 "metadata": {
  "kernelspec": {
   "display_name": "Python 3 (ipykernel)",
   "language": "python",
   "name": "python3"
  },
  "language_info": {
   "codemirror_mode": {
    "name": "ipython",
    "version": 3
   },
   "file_extension": ".py",
   "mimetype": "text/x-python",
   "name": "python",
   "nbconvert_exporter": "python",
   "pygments_lexer": "ipython3",
   "version": "3.11.4"
  }
 },
 "nbformat": 4,
 "nbformat_minor": 5
}
