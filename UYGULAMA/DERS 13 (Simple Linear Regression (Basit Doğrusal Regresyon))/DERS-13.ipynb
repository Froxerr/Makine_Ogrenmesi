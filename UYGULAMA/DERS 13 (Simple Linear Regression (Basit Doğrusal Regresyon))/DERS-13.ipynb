{
 "cells": [
  {
   "cell_type": "code",
   "execution_count": null,
   "id": "9507f918",
   "metadata": {},
   "outputs": [],
   "source": [
    "import pandas as pd\n",
    "import matplotlib.pyplot as plt\n",
    "import statsmodels.api as sm\n",
    "from sklearn.linear_model import LinearRegression"
   ]
  },
  {
   "cell_type": "code",
   "execution_count": null,
   "id": "c9bd9ecc",
   "metadata": {},
   "outputs": [],
   "source": [
    "data = pd.DataFrame(pd.read_csv(\"Salary.csv\"))\n",
    "df = data.copy()\n",
    "df.head()"
   ]
  },
  {
   "cell_type": "code",
   "execution_count": null,
   "id": "d664e578",
   "metadata": {},
   "outputs": [],
   "source": [
    "print(df.isnull().sum())"
   ]
  },
  {
   "cell_type": "code",
   "execution_count": null,
   "id": "a7244db5",
   "metadata": {},
   "outputs": [],
   "source": [
    "X = df[\"YearsExperience\"]\n",
    "y = df[\"Salary\"]\n",
    "plt.scatter(X,y)\n",
    "plt.show()"
   ]
  },
  {
   "cell_type": "code",
   "execution_count": null,
   "id": "85de36e2",
   "metadata": {},
   "outputs": [],
   "source": [
    "sabit = sm.add_constant(X)\n",
    "model = sm.OLS(y,sabit).fit()\n",
    "print(model.summary())"
   ]
  },
  {
   "cell_type": "code",
   "execution_count": null,
   "id": "514df862",
   "metadata": {},
   "outputs": [],
   "source": [
    "lr = LinearRegression()\n",
    "lr.fit(X.values.reshape(-1,1),y.values.reshape(-1,1)) #Array şeklinde olması gerektiği için array'e çevirme işlemi\n",
    "print(lr.coef_,lr.intercept_)#coef = Eğim katsayısı (B1), intercept (Bo) = Sabit\n",
    "print(lr.predict(X.values.reshape(-1,1))) #Tahmin değerleri"
   ]
  }
 ],
 "metadata": {
  "kernelspec": {
   "display_name": "Python 3 (ipykernel)",
   "language": "python",
   "name": "python3"
  },
  "language_info": {
   "codemirror_mode": {
    "name": "ipython",
    "version": 3
   },
   "file_extension": ".py",
   "mimetype": "text/x-python",
   "name": "python",
   "nbconvert_exporter": "python",
   "pygments_lexer": "ipython3",
   "version": "3.11.4"
  }
 },
 "nbformat": 4,
 "nbformat_minor": 5
}
