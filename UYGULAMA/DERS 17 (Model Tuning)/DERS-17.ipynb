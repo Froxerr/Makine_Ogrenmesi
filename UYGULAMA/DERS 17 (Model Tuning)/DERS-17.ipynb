{
 "cells": [
  {
   "cell_type": "code",
   "execution_count": null,
   "id": "db12c11c",
   "metadata": {},
   "outputs": [],
   "source": [
    "#Çapraz doğrulama sürecine bakacağız\n",
    "#K-Kat Çapraz Doğrulama (K-Fold Cross-Validation):\n",
    "#Leave-One-Out Çapraz Doğrulama (LOOCV)"
   ]
  },
  {
   "cell_type": "code",
   "execution_count": null,
   "id": "56b68d70",
   "metadata": {},
   "outputs": [],
   "source": [
    "import pandas as pd\n",
    "from sklearn.model_selection import train_test_split,KFold\n",
    "#KFold = Eğitim veri setini bölmeye yarayan bir işlemdir\n",
    "from sklearn.linear_model import LinearRegression\n",
    "import sklearn.metrics as mt"
   ]
  },
  {
   "cell_type": "code",
   "execution_count": null,
   "id": "837cae24",
   "metadata": {},
   "outputs": [],
   "source": [
    "data = pd.read_csv(\"advertising.csv\")\n",
    "df = data.copy()\n",
    "df.head()"
   ]
  },
  {
   "cell_type": "code",
   "execution_count": null,
   "id": "375fcf80",
   "metadata": {},
   "outputs": [],
   "source": [
    "y = df[\"Sales\"]\n",
    "X = df.drop(\"Sales\",axis=1)\n",
    "\n",
    "X_train,X_test,y_train,y_test = train_test_split(X,y,test_size=0.2,random_state=42)\n",
    "\n",
    "lr = LinearRegression()\n",
    "model = lr.fit(X_train,y_train)"
   ]
  },
  {
   "cell_type": "code",
   "execution_count": null,
   "id": "3374e7d0",
   "metadata": {},
   "outputs": [],
   "source": [
    "def skor(model,x_train,x_test,y_train,y_test):\n",
    "    egitimtahmin = model.predict(x_train)\n",
    "    testtahmin = model.predict(x_test)\n",
    "    \n",
    "    r2_egitim = mt.r2_score(y_train,egitimtahmin)\n",
    "    r2_test = mt.r2_score(y_test,testtahmin)\n",
    "    \n",
    "    mse_egitim = mt.mean_squared_error(y_train,egitimtahmin)\n",
    "    mse_test = mt.mean_squared_error(y_test,testtahmin)\n",
    "    \n",
    "    return [r2_egitim,r2_test,mse_egitim,mse_test]"
   ]
  },
  {
   "cell_type": "code",
   "execution_count": null,
   "id": "b8aaa662",
   "metadata": {},
   "outputs": [],
   "source": [
    "sonuc1 = skor(lr,X_train,X_test,y_train,y_test)\n",
    "print(f\"Eğitim R2 = {sonuc1[0]}, Eğitim MSE {sonuc1[2]}\")\n",
    "print(f\"Test R2 = {sonuc1[1]}, Test MSE {sonuc1[3]}\")"
   ]
  },
  {
   "cell_type": "code",
   "execution_count": null,
   "id": "fb6d17c0",
   "metadata": {},
   "outputs": [],
   "source": [
    "#lr_cv = Cross-Validation(Çapraz doğrulama), kısaltmasıyla yeni bir model oluşturuyoruz\n",
    "lr_cv = LinearRegression()\n",
    "k= 5 # K-Kat Çapraz Doğrulama (K-Fold Cross-Validation)'daki K katsayısı\n",
    "iterasyon = 1 #\"İterasyon,\" genellikle bir döngü veya tekrarlayan bir işlem içindeki her bir geçişi ifade eden bir terimdir\n",
    "cv = KFold(n_splits=k)\n",
    "for egitimindex,testindex in cv.split(X):\n",
    "    \n",
    "    X_train,X_test = X.loc[egitimindex],X.loc[testindex]\n",
    "    y_train,y_test = y.loc[egitimindex],y.loc[testindex]\n",
    "    lr_cv.fit(X_train,y_train)\n",
    "    \n",
    "    sonuc2 = skor(lr_cv,X_train,X_test,y_train,y_test)\n",
    "    print(f\"İterasyon: {iterasyon}\")\n",
    "    print(f\"Eğitim R2 = {sonuc2[0]}, Eğitim MSE {sonuc2[2]}\")\n",
    "    print(f\"Test R2 = {sonuc2[1]}, Test MSE {sonuc2[3]}\")\n",
    "    iterasyon += 1"
   ]
  }
 ],
 "metadata": {
  "kernelspec": {
   "display_name": "Python 3 (ipykernel)",
   "language": "python",
   "name": "python3"
  },
  "language_info": {
   "codemirror_mode": {
    "name": "ipython",
    "version": 3
   },
   "file_extension": ".py",
   "mimetype": "text/x-python",
   "name": "python",
   "nbconvert_exporter": "python",
   "pygments_lexer": "ipython3",
   "version": "3.11.4"
  }
 },
 "nbformat": 4,
 "nbformat_minor": 5
}
