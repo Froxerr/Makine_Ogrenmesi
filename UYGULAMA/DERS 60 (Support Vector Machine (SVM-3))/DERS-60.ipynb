{
 "cells": [
  {
   "cell_type": "code",
   "execution_count": null,
   "id": "17a54744",
   "metadata": {},
   "outputs": [],
   "source": [
    "#DERS-59"
   ]
  },
  {
   "cell_type": "code",
   "execution_count": null,
   "id": "12fcd500",
   "metadata": {},
   "outputs": [],
   "source": [
    "import pandas as pd\n",
    "from sklearn.preprocessing import LabelBinarizer,StandardScaler\n",
    "from sklearn.model_selection import train_test_split,GridSearchCV\n",
    "from sklearn.svm import SVC\n",
    "from sklearn.metrics import accuracy_score"
   ]
  },
  {
   "cell_type": "code",
   "execution_count": null,
   "id": "38c8d88e",
   "metadata": {},
   "outputs": [],
   "source": [
    "data = pd.read_csv(\"data.csv\")\n",
    "df = data.copy()\n",
    "df.drop([\"Unnamed: 32\",\"id\"],axis=1,inplace=True)\n",
    "df"
   ]
  },
  {
   "cell_type": "code",
   "execution_count": null,
   "id": "392950f2",
   "metadata": {},
   "outputs": [],
   "source": [
    "lb = LabelBinarizer()\n",
    "df[\"diagnosis\"] = lb.fit_transform(df[\"diagnosis\"])\n",
    "df"
   ]
  },
  {
   "cell_type": "code",
   "execution_count": null,
   "id": "7cac6829",
   "metadata": {},
   "outputs": [],
   "source": [
    "y = df[\"diagnosis\"]\n",
    "X = df.drop(\"diagnosis\",axis=1)\n",
    "\n",
    "X_train,X_test,y_train,y_test = train_test_split(X,y,test_size=0.2,random_state=42)\n",
    "\n",
    "sc = StandardScaler()\n",
    "X_train = sc.fit_transform(X_train)\n",
    "X_test = sc.transform(X_test)\n",
    "\n",
    "svm = SVC(random_state=0)\n",
    "svm.fit(X_train,y_train)\n",
    "tahmin = svm.predict(X_test)\n",
    "\n",
    "acs = accuracy_score(y_test,tahmin)\n",
    "print(acs*100)"
   ]
  },
  {
   "cell_type": "code",
   "execution_count": null,
   "id": "61cc8697",
   "metadata": {},
   "outputs": [],
   "source": [
    "#DERS-60"
   ]
  },
  {
   "cell_type": "code",
   "execution_count": null,
   "id": "9715667e",
   "metadata": {},
   "outputs": [],
   "source": [
    "parametreler = {\n",
    "    \"C\":range(1,20),\n",
    "    \"kernel\":[\"linear\",\"poly\",\"rbf\"]\n",
    "}\n",
    "grid = GridSearchCV(estimator=svm,param_grid=parametreler,cv=10)\n",
    "grid.fit(X_train,y_train)\n",
    "print(grid.best_params_)"
   ]
  },
  {
   "cell_type": "code",
   "execution_count": null,
   "id": "dde805a7",
   "metadata": {},
   "outputs": [],
   "source": [
    "svm = SVC(random_state=0,C=2,kernel=\"rbf\")\n",
    "svm.fit(X_train,y_train)\n",
    "tahmin = svm.predict(X_test)\n",
    "\n",
    "acs = accuracy_score(y_test,tahmin)\n",
    "print(acs*100)"
   ]
  },
  {
   "cell_type": "code",
   "execution_count": null,
   "id": "77b8fb9f",
   "metadata": {},
   "outputs": [],
   "source": [
    "#C parametresi ne işe yarar"
   ]
  },
  {
   "cell_type": "code",
   "execution_count": null,
   "id": "289e5573",
   "metadata": {},
   "outputs": [],
   "source": [
    "import matplotlib.pyplot as plt\n",
    "import numpy as np\n",
    "from sklearn import svm\n",
    "\n",
    "# we create 40 separable points\n",
    "np.random.seed(0)\n",
    "X = np.r_[np.random.randn(20, 2) - [2, 2], np.random.randn(20, 2) + [2, 2]]\n",
    "Y = [0] * 20 + [1] * 20\n",
    "\n",
    "# figure number\n",
    "fignum = 1\n",
    "\n",
    "# fit the model\n",
    "\n",
    "clf = svm.SVC(kernel=\"linear\", C=0.01)\n",
    "clf.fit(X, Y)\n",
    "\n",
    "# get the separating hyperplane\n",
    "w = clf.coef_[0]\n",
    "a = -w[0] / w[1]\n",
    "xx = np.linspace(-5, 5)\n",
    "yy = a * xx - (clf.intercept_[0]) / w[1]\n",
    "\n",
    "# plot the parallels to the separating hyperplane that pass through the\n",
    "# support vectors (margin away from hyperplane in direction\n",
    "# perpendicular to hyperplane). This is sqrt(1+a^2) away vertically in\n",
    "# 2-d.\n",
    "margin = 1 / np.sqrt(np.sum(clf.coef_**2))\n",
    "yy_down = yy - np.sqrt(1 + a**2) * margin\n",
    "yy_up = yy + np.sqrt(1 + a**2) * margin\n",
    "\n",
    "# plot the line, the points, and the nearest vectors to the plane\n",
    "plt.figure(fignum, figsize=(5, 8))\n",
    "plt.clf()\n",
    "plt.plot(xx, yy, \"k-\")\n",
    "plt.plot(xx, yy_down, \"k--\")\n",
    "plt.plot(xx, yy_up, \"k--\")\n",
    "\n",
    "plt.scatter(\n",
    "    clf.support_vectors_[:, 0],\n",
    "    clf.support_vectors_[:, 1],\n",
    "    s=80,\n",
    "    facecolors=\"none\",\n",
    "    zorder=10,\n",
    "    edgecolors=\"k\",\n",
    ")\n",
    "plt.scatter(\n",
    "    X[:, 0], X[:, 1], c=Y, zorder=10, cmap=plt.get_cmap(\"RdBu\"), edgecolors=\"k\"\n",
    ")\n",
    "\n",
    "plt.axis(\"tight\")\n",
    "x_min = -4.8\n",
    "x_max = 4.2\n",
    "y_min = -6\n",
    "y_max = 6\n",
    "\n",
    "YY, XX = np.meshgrid(yy, xx)\n",
    "xy = np.vstack([XX.ravel(), YY.ravel()]).T\n",
    "Z = clf.decision_function(xy).reshape(XX.shape)\n",
    "\n",
    "# Put the result into a contour plot\n",
    "plt.contourf(XX, YY, Z, cmap=plt.get_cmap(\"RdBu\"), alpha=0.5, linestyles=[\"-\"])\n",
    "\n",
    "plt.xlim(x_min, x_max)\n",
    "plt.ylim(y_min, y_max)\n",
    "\n",
    "plt.xticks(())\n",
    "plt.yticks(())\n",
    "fignum = fignum + 1\n",
    "\n",
    "plt.show()"
   ]
  },
  {
   "cell_type": "code",
   "execution_count": null,
   "id": "6f0e70b6",
   "metadata": {},
   "outputs": [],
   "source": [
    "#Kernel parametresi ne işe yarar"
   ]
  },
  {
   "cell_type": "code",
   "execution_count": null,
   "id": "27a1612d",
   "metadata": {},
   "outputs": [],
   "source": [
    "import matplotlib.pyplot as plt\n",
    "\n",
    "from sklearn import datasets, svm\n",
    "from sklearn.inspection import DecisionBoundaryDisplay\n",
    "\n",
    "# import some data to play with\n",
    "iris = datasets.load_iris()\n",
    "# Take the first two features. We could avoid this by using a two-dim dataset\n",
    "X = iris.data[:, :2]\n",
    "y = iris.target\n",
    "\n",
    "# we create an instance of SVM and fit out data. We do not scale our\n",
    "# data since we want to plot the support vectors\n",
    "C = 1.0  # SVM regularization parameter\n",
    "models = (\n",
    "    svm.SVC(kernel=\"linear\", C=C),\n",
    "    svm.LinearSVC(C=C, max_iter=10000, dual=\"auto\"),\n",
    "    svm.SVC(kernel=\"rbf\", gamma=0.7, C=C),\n",
    "    svm.SVC(kernel=\"poly\", degree=3, gamma=\"auto\", C=C),\n",
    ")\n",
    "models = (clf.fit(X, y) for clf in models)\n",
    "\n",
    "# title for the plots\n",
    "titles = (\n",
    "    \"SVC with linear kernel\",\n",
    "    \"LinearSVC (linear kernel)\",\n",
    "    \"SVC with RBF kernel\",\n",
    "    \"SVC with polynomial (degree 3) kernel\",\n",
    ")\n",
    "\n",
    "# Set-up 2x2 grid for plotting.\n",
    "fig, sub = plt.subplots(2, 2)\n",
    "plt.subplots_adjust(wspace=0.4, hspace=0.4)\n",
    "\n",
    "X0, X1 = X[:, 0], X[:, 1]\n",
    "\n",
    "for clf, title, ax in zip(models, titles, sub.flatten()):\n",
    "    disp = DecisionBoundaryDisplay.from_estimator(\n",
    "        clf,\n",
    "        X,\n",
    "        response_method=\"predict\",\n",
    "        cmap=plt.cm.coolwarm,\n",
    "        alpha=0.8,\n",
    "        ax=ax,\n",
    "        xlabel=iris.feature_names[0],\n",
    "        ylabel=iris.feature_names[1],\n",
    "    )\n",
    "    ax.scatter(X0, X1, c=y, cmap=plt.cm.coolwarm, s=20, edgecolors=\"k\")\n",
    "    ax.set_xticks(())\n",
    "    ax.set_yticks(())\n",
    "    ax.set_title(title)\n",
    "\n",
    "plt.show()"
   ]
  }
 ],
 "metadata": {
  "kernelspec": {
   "display_name": "Python 3 (ipykernel)",
   "language": "python",
   "name": "python3"
  },
  "language_info": {
   "codemirror_mode": {
    "name": "ipython",
    "version": 3
   },
   "file_extension": ".py",
   "mimetype": "text/x-python",
   "name": "python",
   "nbconvert_exporter": "python",
   "pygments_lexer": "ipython3",
   "version": "3.11.4"
  }
 },
 "nbformat": 4,
 "nbformat_minor": 5
}
