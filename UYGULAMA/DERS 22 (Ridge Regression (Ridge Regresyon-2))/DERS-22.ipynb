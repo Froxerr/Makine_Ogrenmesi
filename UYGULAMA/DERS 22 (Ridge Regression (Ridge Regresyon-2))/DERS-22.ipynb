{
 "cells": [
  {
   "cell_type": "code",
   "execution_count": null,
   "id": "7c8a6e1c",
   "metadata": {},
   "outputs": [],
   "source": [
    "import pandas as pd\n",
    "import numpy as np\n",
    "import matplotlib.pyplot as plt\n",
    "from sklearn.model_selection import train_test_split\n",
    "from sklearn.linear_model import LinearRegression, Ridge #Burada Ridge Regression modelini yüklüyoruz\n",
    "import sklearn.metrics as mt"
   ]
  },
  {
   "cell_type": "code",
   "execution_count": null,
   "id": "5a06ebbd",
   "metadata": {},
   "outputs": [],
   "source": [
    "data = pd.read_csv(\"advertising.csv\")\n",
    "df = data.copy()\n",
    "df.head()"
   ]
  },
  {
   "cell_type": "code",
   "execution_count": null,
   "id": "831953f5",
   "metadata": {},
   "outputs": [],
   "source": [
    "y = df[\"Sales\"]\n",
    "X = df.drop(\"Sales\",axis=1)\n",
    "\n",
    "X_train,X_test,y_train,y_test = train_test_split(X,y,test_size=0.2,random_state=42)\n",
    "\n",
    "lr = LinearRegression()\n",
    "lr.fit(X_train,y_train)\n",
    "\n",
    "tahmin = lr.predict(X_test)\n",
    "\n",
    "r2 = mt.r2_score(y_test,tahmin)\n",
    "mse = mt.mean_squared_error(y_test,tahmin)\n",
    "\n",
    "print(f\"R2: {r2}, MSE: {mse}\")"
   ]
  },
  {
   "cell_type": "code",
   "execution_count": null,
   "id": "67b19b7e",
   "metadata": {},
   "outputs": [],
   "source": [
    "#Ridge Regression yapısını kurma işlemleri\n",
    "#Çoklu doğrusal problemler varsa (bağımsız değişkenler arasında korelasyon) veya aykırı gözlem değerleri varsa\n",
    "#alpha = Alpha, teorik olarak öğrendiğimiz lambda yani bir Hyperparameter'ı ifade eder\n",
    "ridge_model = Ridge(alpha=150)\n",
    "ridge_model.fit(X_train,y_train)\n",
    "\n",
    "tahmin2 = ridge_model.predict(X_test)\n",
    "\n",
    "r2rid = mt.r2_score(y_test,tahmin2)\n",
    "mserid = mt.mean_squared_error(y_test,tahmin2)\n",
    "\n",
    "print(f\"R2rid: {r2rid}, MSErid: {mserid}\")"
   ]
  },
  {
   "cell_type": "code",
   "execution_count": null,
   "id": "38f63ee2",
   "metadata": {},
   "outputs": [],
   "source": [
    "#Alpha değeri her arttığında R2 değeri düşer. Bunu daha iyi görmek için bir for döngüsü oluşturuyoruz\n",
    "katsayilar = []\n",
    "lambdalar = 10**np.linspace(10,-2,100)*0.5\n",
    "#Özetle, bu kod, 10^10'dan 10^-2'ye kadar olan logaritmik aralıkta 100 farklı sayı üretir \n",
    "#ve her birini 0.5 ile çarparak bir dizi oluşturur. \n",
    "\n",
    "for i in lambdalar:\n",
    "    ridge_model = Ridge(alpha=i)\n",
    "    ridge_model.fit(X_train,y_train)\n",
    "    katsayilar.append(ridge_model.coef_)\n",
    "    \n",
    "ax = plt.gca()\n",
    "ax.plot(lambdalar,katsayilar)\n",
    "ax.set_xscale(\"log\")\n",
    "plt.xlabel(\"Lambda\")\n",
    "plt.ylabel(\"Katsayılar\")\n",
    "plt.show()"
   ]
  }
 ],
 "metadata": {
  "kernelspec": {
   "display_name": "Python 3 (ipykernel)",
   "language": "python",
   "name": "python3"
  },
  "language_info": {
   "codemirror_mode": {
    "name": "ipython",
    "version": 3
   },
   "file_extension": ".py",
   "mimetype": "text/x-python",
   "name": "python",
   "nbconvert_exporter": "python",
   "pygments_lexer": "ipython3",
   "version": "3.11.4"
  }
 },
 "nbformat": 4,
 "nbformat_minor": 5
}
