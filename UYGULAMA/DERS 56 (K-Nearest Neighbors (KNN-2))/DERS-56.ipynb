{
 "cells": [
  {
   "cell_type": "code",
   "execution_count": null,
   "id": "c57eec27",
   "metadata": {},
   "outputs": [],
   "source": [
    "import pandas as pd\n",
    "from sklearn.preprocessing import LabelEncoder,StandardScaler\n",
    "from sklearn.model_selection import train_test_split\n",
    "from sklearn.neighbors import KNeighborsClassifier\n",
    "from sklearn.metrics import accuracy_score"
   ]
  },
  {
   "cell_type": "code",
   "execution_count": null,
   "id": "237f946c",
   "metadata": {},
   "outputs": [],
   "source": [
    "data = pd.DataFrame(pd.read_csv(\"data.csv\"))\n",
    "df = data.copy()\n",
    "df.drop([\"Unnamed: 32\",\"id\"],axis=1,inplace=True)\n",
    "df.head()"
   ]
  },
  {
   "cell_type": "code",
   "execution_count": null,
   "id": "5ad99847",
   "metadata": {},
   "outputs": [],
   "source": [
    "df[\"diagnosis\"].unique()"
   ]
  },
  {
   "cell_type": "code",
   "execution_count": null,
   "id": "872b26ca",
   "metadata": {},
   "outputs": [],
   "source": [
    "#0 ve 1 olarak ayırma yöntemi -1\n",
    "#df.diagnosis = [1 if i == \"M\" else 0 for i in df.diagnosis] \n",
    "#df"
   ]
  },
  {
   "cell_type": "code",
   "execution_count": null,
   "id": "5358eea5",
   "metadata": {
    "scrolled": true
   },
   "outputs": [],
   "source": [
    "#0 ve 1 olarak ayırma yöntemi -2\n",
    "le = LabelEncoder()\n",
    "df[\"diagnosis\"] = le.fit_transform(df[\"diagnosis\"])\n",
    "df[\"diagnosis\"].unique()\n",
    "df"
   ]
  },
  {
   "cell_type": "code",
   "execution_count": null,
   "id": "0b9cc096",
   "metadata": {},
   "outputs": [],
   "source": [
    "pip install --upgrade threadpoolctl"
   ]
  },
  {
   "cell_type": "code",
   "execution_count": null,
   "id": "18a7ac65",
   "metadata": {},
   "outputs": [],
   "source": [
    "y = df[\"diagnosis\"]\n",
    "X = df.drop(\"diagnosis\",axis=1)\n",
    "\n",
    "X_train,X_test,y_train,y_test = train_test_split(X,y,test_size=0.2,random_state=42)\n",
    "\n",
    "sc = StandardScaler()\n",
    "X_train = sc.fit_transform(X_train)\n",
    "X_test = sc.transform(X_test)\n",
    "\n",
    "model = KNeighborsClassifier()\n",
    "model.fit(X_train,y_train)\n",
    "tahmin = model.predict(X_test)\n",
    "\n",
    "acs = accuracy_score(y_test,tahmin)\n",
    "print(acs)"
   ]
  }
 ],
 "metadata": {
  "kernelspec": {
   "display_name": "Python 3 (ipykernel)",
   "language": "python",
   "name": "python3"
  },
  "language_info": {
   "codemirror_mode": {
    "name": "ipython",
    "version": 3
   },
   "file_extension": ".py",
   "mimetype": "text/x-python",
   "name": "python",
   "nbconvert_exporter": "python",
   "pygments_lexer": "ipython3",
   "version": "3.11.4"
  }
 },
 "nbformat": 4,
 "nbformat_minor": 5
}
