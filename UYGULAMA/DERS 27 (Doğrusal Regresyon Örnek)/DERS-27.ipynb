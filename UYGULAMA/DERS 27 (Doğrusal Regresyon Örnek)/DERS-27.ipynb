{
 "cells": [
  {
   "cell_type": "code",
   "execution_count": null,
   "id": "4cfa6b79",
   "metadata": {},
   "outputs": [],
   "source": [
    "import pandas as pd\n",
    "import numpy as np\n",
    "import matplotlib.pyplot as plt\n",
    "import seaborn as sns\n",
    "import statsmodels.api as sm\n",
    "from statsmodels.stats.outliers_influence import variance_inflation_factor\n",
    "from sklearn.model_selection import train_test_split,cross_val_score\n",
    "import sklearn.metrics as mt\n",
    "from sklearn.linear_model import LinearRegression,Ridge,Lasso,ElasticNet,RidgeCV,LassoCV,ElasticNetCV"
   ]
  },
  {
   "cell_type": "code",
   "execution_count": null,
   "id": "0df65e23",
   "metadata": {},
   "outputs": [],
   "source": [
    "data = pd.read_csv(\"USA_Housing.csv\")\n",
    "df = data.copy()\n",
    "df.head()"
   ]
  },
  {
   "cell_type": "code",
   "execution_count": null,
   "id": "368ed831",
   "metadata": {},
   "outputs": [],
   "source": [
    "df.info()"
   ]
  },
  {
   "cell_type": "code",
   "execution_count": null,
   "id": "e16b44fd",
   "metadata": {},
   "outputs": [],
   "source": [
    "df = df.drop(columns=\"Address\",axis=1)\n",
    "df"
   ]
  },
  {
   "cell_type": "code",
   "execution_count": null,
   "id": "8f323bd8",
   "metadata": {},
   "outputs": [],
   "source": [
    "df.isnull().sum()"
   ]
  },
  {
   "cell_type": "code",
   "execution_count": null,
   "id": "eeea9331",
   "metadata": {},
   "outputs": [],
   "source": [
    "#Bağımsız değişkenler arasında bir ilişki olmamasını kontrol etmek için grafik çiziyoruz\n",
    "sns.pairplot(df)\n",
    "plt.show()"
   ]
  },
  {
   "cell_type": "code",
   "execution_count": null,
   "id": "e6796c97",
   "metadata": {},
   "outputs": [],
   "source": [
    "#Bağımsız değişkenler arasında bir ilişki olmamasını kontrol etmek için korelasyon yapısına bakıyoruz\n",
    "sns.heatmap(df.corr(),annot=True)\n",
    "plt.show()"
   ]
  },
  {
   "cell_type": "code",
   "execution_count": null,
   "id": "0e79126d",
   "metadata": {},
   "outputs": [],
   "source": [
    "import statsmodels.api as sm\n",
    "from statsmodels.stats.outliers_influence import variance_inflation_factor\n",
    "\n",
    "#Bağımsız değişkenler arasında bir ilişki olmamasını kontrol etmek için VIF yapısına bakıyoruz\n",
    "y = df[\"Price\"]\n",
    "X = df.drop(\"Price\",axis=1)\n",
    "\n",
    "sabit = sm.add_constant(X)\n",
    "\n",
    "vif = pd.DataFrame()\n",
    "vif[\"Değişkenler\"] = X.columns\n",
    "vif[\"VIF\"] = [variance_inflation_factor(sabit,i+1) for i in range(X.shape[1])]\n",
    "vif # 5 değerinin üzerindekiler sorun, altındakiler sorun değil"
   ]
  },
  {
   "cell_type": "code",
   "execution_count": null,
   "id": "875eea10",
   "metadata": {},
   "outputs": [],
   "source": [
    "X_train,X_test,y_train,y_test = train_test_split(X,y,test_size=0.2,random_state=42)\n",
    "\n",
    "#cross_val_score = İlk parametresi hangi model olduğu | 2. bağımsız | 3. Bağımlı | 4. Kaç kat parçalayacaksın\n",
    "def caprazdog(model):\n",
    "    dogruluk = cross_val_score(model,X,y,cv=10)\n",
    "    return dogruluk.mean()\n",
    "    #Her bir parçalama için bir skor ortaya çıkarır ve bu skorların ortalamasını bize döndürür\n",
    "def basari(gercek,tahmin):\n",
    "    mse = mt.mean_squared_error(gercek,tahmin,squared=True)\n",
    "    r2 = mt.r2_score(gercek,tahmin)\n",
    "    return [mse,r2]\n",
    "lin_model = LinearRegression()\n",
    "lin_model.fit(X_train,y_train)\n",
    "lin_tahmin = lin_model.predict(X_test)\n",
    "\n",
    "ridge_model = Ridge(alpha=0.1)\n",
    "ridge_model.fit(X_train,y_train)\n",
    "ridge_tahmin = ridge_model.predict(X_test)\n",
    "\n",
    "lasso_model = Lasso(alpha=0.1)\n",
    "lasso_model.fit(X_train,y_train)\n",
    "lasso_tahmin = lasso_model.predict(X_test)\n",
    "\n",
    "elas_model = ElasticNet(alpha=0.1)\n",
    "elas_model.fit(X_train,y_train)\n",
    "elas_tahmin = elas_model.predict(X_test)\n",
    "\n",
    "sonuclar = [[\"Linear Model\",basari(y_test,lin_tahmin)[0],basari(y_test,lin_tahmin)[1],caprazdog(lin_model)],\n",
    "           [\"Ridge Model\",basari(y_test,ridge_tahmin)[0],basari(y_test,ridge_tahmin)[1],caprazdog(ridge_model)],\n",
    "           [\"Lasso Model\",basari(y_test,lasso_tahmin)[0],basari(y_test,lasso_tahmin)[1],caprazdog(lasso_model)],\n",
    "           [\"ElasticNet Model\",basari(y_test,elas_tahmin)[0],basari(y_test,elas_tahmin)[1],caprazdog(elas_model)],\n",
    "           ]\n",
    " \n",
    "pd.options.display.float_format = '{:,.4f}'.format # Tüm veri çerçevesinde bulunan MSE sütunundaki bilimsel sayıyı\n",
    "#virgülden sonra 4 değeri ile gösteriyoruz\n",
    "sonuclar = pd.DataFrame(sonuclar,columns=[\"Model\",\"MSE\",\"R2\",\"Doğrulama\"])\n",
    "sonuclar #MSE değeri düşük olmalıdır\n",
    "#R2 değeri yüksek olmalıdır\n",
    "#Doğrulama yüksek olmalıdır"
   ]
  },
  {
   "cell_type": "code",
   "execution_count": null,
   "id": "e0dfe480",
   "metadata": {},
   "outputs": [],
   "source": [
    "#Alpha değerlerini optimal hale getirme işlemi\n",
    "#Ridge için\n",
    "lambdalar = 10**np.linspace(10,-2,100)*0.5\n",
    "ridge_lamb = RidgeCV(alphas=lambdalar, scoring=\"r2\").fit(X_train,y_train).alpha_\n",
    "ridge_model = Ridge(alpha=ridge_lamb)\n",
    "ridge_model.fit(X_train,y_train)\n",
    "ridge_tahmin = ridge_model.predict(X_test)\n",
    "\n",
    "\n",
    "#Lesso için\n",
    "lasso_lamb = LassoCV(cv=10,max_iter=10000).fit(X_train,y_train).alpha_\n",
    "lasso_model = Lasso(alpha=lasso_lamb)\n",
    "lasso_model.fit(X_train,y_train)\n",
    "lasso_tahmin = lasso_model.predict(X_test)\n",
    "\n",
    "\n",
    "#ElasticNet için\n",
    "elastic_lamb = ElasticNetCV(cv=10,max_iter=10000).fit(X_train,y_train).alpha_\n",
    "elas_model = ElasticNet(alpha=elastic_lamb)\n",
    "elas_model.fit(X_train,y_train)\n",
    "elas_tahmin = elas_model.predict(X_test)\n",
    "\n",
    "\n",
    "sonuclar = [[\"Linear Model\",basari(y_test,lin_tahmin)[0],basari(y_test,lin_tahmin)[1],caprazdog(lin_model)],\n",
    "           [\"Ridge Model\",basari(y_test,ridge_tahmin)[0],basari(y_test,ridge_tahmin)[1],caprazdog(ridge_model)],\n",
    "           [\"Lasso Model\",basari(y_test,lasso_tahmin)[0],basari(y_test,lasso_tahmin)[1],caprazdog(lasso_model)],\n",
    "           [\"ElasticNet Model\",basari(y_test,elas_tahmin)[0],basari(y_test,elas_tahmin)[1],caprazdog(elas_model)],\n",
    "           ]\n",
    "\n",
    "pd.options.display.float_format = '{:,.4f}'.format\n",
    "sonuclar = pd.DataFrame(sonuclar,columns=[\"Model\",\"MSE\",\"R2\",\"Doğrulama\"])\n",
    "sonuclar\n",
    "\n"
   ]
  }
 ],
 "metadata": {
  "kernelspec": {
   "display_name": "Python 3 (ipykernel)",
   "language": "python",
   "name": "python3"
  },
  "language_info": {
   "codemirror_mode": {
    "name": "ipython",
    "version": 3
   },
   "file_extension": ".py",
   "mimetype": "text/x-python",
   "name": "python",
   "nbconvert_exporter": "python",
   "pygments_lexer": "ipython3",
   "version": "3.11.4"
  }
 },
 "nbformat": 4,
 "nbformat_minor": 5
}
