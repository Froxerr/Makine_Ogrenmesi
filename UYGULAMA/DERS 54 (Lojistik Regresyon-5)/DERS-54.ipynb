{
 "cells": [
  {
   "cell_type": "code",
   "execution_count": null,
   "id": "ccbb17a7",
   "metadata": {},
   "outputs": [],
   "source": [
    "import pandas as pd\n",
    "from sklearn.preprocessing import OrdinalEncoder,StandardScaler\n",
    "from sklearn.model_selection import train_test_split\n",
    "from sklearn.linear_model import LogisticRegression\n",
    "from sklearn.metrics import confusion_matrix,accuracy_score"
   ]
  },
  {
   "cell_type": "code",
   "execution_count": null,
   "id": "a81b1164",
   "metadata": {},
   "outputs": [],
   "source": [
    "data = pd.read_csv(\"winequality-red.csv\")\n",
    "df = data.copy()\n",
    "df.head()"
   ]
  },
  {
   "cell_type": "code",
   "execution_count": null,
   "id": "dd5b08af",
   "metadata": {},
   "outputs": [],
   "source": [
    "df.isnull().sum()"
   ]
  },
  {
   "cell_type": "code",
   "execution_count": null,
   "id": "34610b7e",
   "metadata": {},
   "outputs": [],
   "source": [
    "df[\"quality\"].unique()"
   ]
  },
  {
   "cell_type": "code",
   "execution_count": null,
   "id": "34fdcbd8",
   "metadata": {},
   "outputs": [],
   "source": [
    "#Hiyerarşik bir önem varsa yapılacak işlemler\n",
    "kategori = [\"3\",\"4\",\"5\",\"6\",\"7\",\"8\"] #Bunun içine 3 ile 8 arasındaki değerleri yazacağım. Bunun yazılma amacı,\n",
    "#Ordinal Encoder'ın içine doğrudan kategoriyi atmak ve bu sayede 3 değerini 0'dan başlatmasını sağlamaktır\n",
    "oe = OrdinalEncoder(categories=[kategori])\n",
    "df[\"Kalite\"] = oe.fit_transform(df[\"quality\"].values.reshape(-1,1))\n",
    "print(df[df[\"quality\"] == 5][[\"quality\",\"Kalite\"]])\n",
    "df = df.drop(\"quality\",axis=1)\n",
    "print(df)"
   ]
  },
  {
   "cell_type": "code",
   "execution_count": null,
   "id": "722073e1",
   "metadata": {},
   "outputs": [],
   "source": [
    "y = df[\"Kalite\"]\n",
    "X = df.drop(\"Kalite\",axis=1)\n",
    "\n",
    "X_train,X_test,y_train,y_test = train_test_split(X,y,test_size=0.2,random_state=42)\n",
    "\n",
    "sc = StandardScaler()\n",
    "\n",
    "X_train = sc.fit_transform(X_train)\n",
    "X_test = sc.transform(X_test)\n",
    "\n",
    "\n",
    "model = LogisticRegression(random_state=0,solver='lbfgs', max_iter=1000)\n",
    "model.fit(X_train,y_train)\n",
    "tahmin = model.predict(X_test)"
   ]
  },
  {
   "cell_type": "code",
   "execution_count": null,
   "id": "0d895513",
   "metadata": {},
   "outputs": [],
   "source": [
    "cm = confusion_matrix(y_test,tahmin)\n",
    "print(cm)"
   ]
  },
  {
   "cell_type": "code",
   "execution_count": null,
   "id": "4ae12e42",
   "metadata": {},
   "outputs": [],
   "source": [
    "acs = accuracy_score(y_test,tahmin)\n",
    "print(acs*100)"
   ]
  }
 ],
 "metadata": {
  "kernelspec": {
   "display_name": "Python 3 (ipykernel)",
   "language": "python",
   "name": "python3"
  },
  "language_info": {
   "codemirror_mode": {
    "name": "ipython",
    "version": 3
   },
   "file_extension": ".py",
   "mimetype": "text/x-python",
   "name": "python",
   "nbconvert_exporter": "python",
   "pygments_lexer": "ipython3",
   "version": "3.11.4"
  }
 },
 "nbformat": 4,
 "nbformat_minor": 5
}
