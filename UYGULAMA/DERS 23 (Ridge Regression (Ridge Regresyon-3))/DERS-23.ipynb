{
 "cells": [
  {
   "cell_type": "code",
   "execution_count": null,
   "id": "bab6a108",
   "metadata": {},
   "outputs": [],
   "source": [
    "import pandas as pd\n",
    "import matplotlib.pyplot as plt\n",
    "import numpy as np\n",
    "import seaborn as sns\n",
    "from sklearn.model_selection import train_test_split\n",
    "from sklearn.linear_model import LinearRegression,Ridge\n",
    "import sklearn.metrics as mt"
   ]
  },
  {
   "cell_type": "code",
   "execution_count": null,
   "id": "41299034",
   "metadata": {},
   "outputs": [],
   "source": [
    "data = pd.read_excel(\"ornek.xlsx\")\n",
    "df = data.copy()\n",
    "df.head()"
   ]
  },
  {
   "cell_type": "code",
   "execution_count": null,
   "id": "6dd2770d",
   "metadata": {},
   "outputs": [],
   "source": [
    "#Korelasyon matrisi oluşturma işlemi\n",
    "sns.heatmap(df.corr(),annot=True)\n",
    "plt.show()\n",
    "#Ya VIF testi yapıp çoklu doğrusal probleme yol açanları kaldıracağız\n",
    "#ya da daha dayanıklı bir model kullanacağız, Ridge model yapısı gibi"
   ]
  },
  {
   "cell_type": "code",
   "execution_count": null,
   "id": "6a6d81f3",
   "metadata": {},
   "outputs": [],
   "source": [
    "y = df[\"y\"]\n",
    "X = df.drop(\"y\",axis=1)\n",
    "\n",
    "X_train,X_test,y_train,y_test = train_test_split(X,y,test_size=0.2,random_state=42)\n",
    "\n",
    "lr = LinearRegression()\n",
    "lr.fit(X_train,y_train)\n",
    "\n",
    "tahmin = lr.predict(X_test)\n",
    "\n",
    "r2 = mt.r2_score(y_test,tahmin)\n",
    "\n",
    "print(f\"R2: {r2}\")"
   ]
  },
  {
   "cell_type": "code",
   "execution_count": null,
   "id": "b9a0ff8d",
   "metadata": {},
   "outputs": [],
   "source": [
    "ridge_model = Ridge(alpha=2018508.6292982749)\n",
    "ridge_model.fit(X_train,y_train)\n",
    "tahmin2 = ridge_model.predict(X_test)\n",
    "\n",
    "r2rid = mt.r2_score(y_test,tahmin2)\n",
    "\n",
    "print(f\"R2rid: {r2rid}\")"
   ]
  },
  {
   "cell_type": "code",
   "execution_count": null,
   "id": "12e6872a",
   "metadata": {},
   "outputs": [],
   "source": [
    "from sklearn.linear_model import LinearRegression,Ridge,RidgeCV\n",
    "#Lambda değerine bir aralık verip hangi aralıkta en optimum çalışıyorsa bize onu verecek\n",
    "lambdalar = 10**np.linspace(10,-2,100)*0.5\n",
    "\n",
    "ridge_cv = RidgeCV(alphas=lambdalar, scoring=\"r2\")\n",
    "ridge_cv.fit(X_train,y_train)\n",
    "print(ridge_cv.alpha_) #En uygun lambda değerini bize veriyor"
   ]
  }
 ],
 "metadata": {
  "kernelspec": {
   "display_name": "Python 3 (ipykernel)",
   "language": "python",
   "name": "python3"
  },
  "language_info": {
   "codemirror_mode": {
    "name": "ipython",
    "version": 3
   },
   "file_extension": ".py",
   "mimetype": "text/x-python",
   "name": "python",
   "nbconvert_exporter": "python",
   "pygments_lexer": "ipython3",
   "version": "3.11.4"
  }
 },
 "nbformat": 4,
 "nbformat_minor": 5
}
