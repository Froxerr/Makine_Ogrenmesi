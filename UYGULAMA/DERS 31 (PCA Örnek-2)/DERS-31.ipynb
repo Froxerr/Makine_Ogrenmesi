{
 "cells": [
  {
   "cell_type": "code",
   "execution_count": null,
   "id": "add4ff00",
   "metadata": {},
   "outputs": [],
   "source": [
    "#DERS-30"
   ]
  },
  {
   "cell_type": "code",
   "execution_count": null,
   "id": "28c1067e",
   "metadata": {},
   "outputs": [],
   "source": [
    "import pandas as pd\n",
    "import matplotlib.pyplot as plt\n",
    "import seaborn as sns\n",
    "from sklearn.model_selection import train_test_split,KFold,cross_val_score\n",
    "from sklearn.preprocessing import StandardScaler\n",
    "from sklearn.decomposition import PCA\n",
    "import numpy as np"
   ]
  },
  {
   "cell_type": "code",
   "execution_count": null,
   "id": "43998405",
   "metadata": {},
   "outputs": [],
   "source": [
    "data = pd.read_csv(\"winequality-red.csv\")\n",
    "df = data.copy()\n",
    "df.head()"
   ]
  },
  {
   "cell_type": "code",
   "execution_count": null,
   "id": "37f5d5e9",
   "metadata": {},
   "outputs": [],
   "source": [
    "df.isnull().sum()"
   ]
  },
  {
   "cell_type": "code",
   "execution_count": null,
   "id": "c1b11230",
   "metadata": {},
   "outputs": [],
   "source": [
    "df.info()"
   ]
  },
  {
   "cell_type": "code",
   "execution_count": null,
   "id": "c7bf62d4",
   "metadata": {},
   "outputs": [],
   "source": [
    "sns.pairplot(df)\n",
    "plt.show()"
   ]
  },
  {
   "cell_type": "code",
   "execution_count": null,
   "id": "a1477888",
   "metadata": {},
   "outputs": [],
   "source": [
    "sns.heatmap(df.corr(),annot=True,cbar=True)\n",
    "plt.show()"
   ]
  },
  {
   "cell_type": "code",
   "execution_count": null,
   "id": "0af70e9a",
   "metadata": {},
   "outputs": [],
   "source": [
    "#Principal Component Analysis (PCA) (Temel Bileşenler Analizi) KURULUMU\n",
    "y = df[\"quality\"]\n",
    "X = df.drop(\"quality\",axis=1)\n",
    "\n",
    "X_train,X_test,y_train,y_test = train_test_split(X,y,test_size=0.2,random_state=42)\n",
    "\n",
    "\n",
    "#Elimizdeki bağımsız değişken yapılarını standartlaştırma işlemi yapıyoruz\n",
    "sc = StandardScaler()\n",
    "X_train = sc.fit_transform(X_train)\n",
    "X_test = sc.transform(X_test)\n",
    "\n",
    "#PCA işlemlerine geçiyoruz, yani verileri küçültüyoruz\n",
    "pca = PCA() #n_components=2 = 11 birleşenimi 2 birleşene indirmek istiyorum\n",
    "\n",
    "X_train2 = pca.fit_transform(X_train)\n",
    "X_test2 = pca.transform(X_test)\n",
    "\n",
    "print(X_train.shape)\n",
    "print(X_train2.shape)"
   ]
  },
  {
   "cell_type": "code",
   "execution_count": null,
   "id": "123e3320",
   "metadata": {
    "scrolled": true
   },
   "outputs": [],
   "source": [
    "print(np.cumsum(pca.explained_variance_ratio_)*100)#Açıklanan varyans oranlarını bana kümülatif bir şekilde verecek\n",
    "#Eğer 8 tane değişken ile çalışırsam, senin açıklanan varyans oranın %94.70160536 diyor bize\n",
    "#Elindekini minimize etmeye çalışırken %90 üzerinde açıklanan varyans oranına da sahip olacağız"
   ]
  },
  {
   "cell_type": "code",
   "execution_count": null,
   "id": "f6c3e218",
   "metadata": {},
   "outputs": [],
   "source": [
    "plt.plot(np.cumsum(pca.explained_variance_ratio_))\n",
    "plt.xlabel(\"Bileşen Sayısı\")\n",
    "plt.ylabel(\"Açıklanan Varyans\")\n",
    "plt.show()"
   ]
  },
  {
   "cell_type": "code",
   "execution_count": null,
   "id": "45a19b26",
   "metadata": {},
   "outputs": [],
   "source": [
    "#DERS-31"
   ]
  },
  {
   "cell_type": "code",
   "execution_count": null,
   "id": "303c35b7",
   "metadata": {},
   "outputs": [],
   "source": [
    "from sklearn.linear_model import LinearRegression\n",
    "import sklearn.metrics as mt"
   ]
  },
  {
   "cell_type": "code",
   "execution_count": null,
   "id": "014fe545",
   "metadata": {},
   "outputs": [],
   "source": [
    "lm = LinearRegression()\n",
    "lm.fit(X_train2,y_train)\n",
    "tahmin = lm.predict(X_test2)\n",
    "\n",
    "r2 = mt.r2_score(y_test,tahmin)\n",
    "mse = mt.mean_squared_error(y_test,tahmin,squared=True)\n",
    "\n",
    "print(f\"R2: {r2}, MSE: {mse}\")"
   ]
  },
  {
   "cell_type": "code",
   "execution_count": null,
   "id": "32c8dca9",
   "metadata": {},
   "outputs": [],
   "source": [
    "#Çapraz doğrulama işlemiyle veri setini parçalara ayıracak ve bunlara karşılık gelen her bir yapıya cross_val_score alacak\n",
    "#Alınan bu cross_val_score skorunun ortalamasını alıp kaç bileşen ile çalışabileceğimi gösteren bir yapı kuracağız\n",
    "#shuffle = her seçme yapısında karıştırma işlemi gerçekleştiriyor\n",
    "cv = KFold(n_splits=10,shuffle=True,random_state=1)\n",
    "\n",
    "lm2 = LinearRegression()\n",
    "RMSE = []\n",
    "#X_train2.shape[1] = Bu değer 11 anlamına geliyor, +1 de dahil, dahil değil muhabbeti\n",
    "for i in range(1,X_train2.shape[1]+1):\n",
    "    hata = np.sqrt(-1*cross_val_score(lm2,X_train2[:,:i],\n",
    "                                      y_train.ravel(),\n",
    "                                      cv=cv,\n",
    "                                      scoring=\"neg_mean_squared_error\").mean())\n",
    "    RMSE.append(hata)\n",
    "    #Scoring bize mean_squared_error negatif halini gönderecek, biz de -1 ile çarpıp pozitif haline getireceğiz\n",
    "    #Artıya dönen sonucun karekökünü alarak RMSE'ye çevirmiş olacağız\n",
    "#-x çizginin kırılımlarını gösteriyor\n",
    "plt.plot(RMSE,\"-x\")\n",
    "plt.xlabel(\"Bileşen Sayısı\")\n",
    "plt.ylabel(\"RMSE\")\n",
    "#Aslında tam kırılımı bulmak lazım, 3. den sonra aslında bir düzlüğe çıkmış oluyor"
   ]
  }
 ],
 "metadata": {
  "kernelspec": {
   "display_name": "Python 3 (ipykernel)",
   "language": "python",
   "name": "python3"
  },
  "language_info": {
   "codemirror_mode": {
    "name": "ipython",
    "version": 3
   },
   "file_extension": ".py",
   "mimetype": "text/x-python",
   "name": "python",
   "nbconvert_exporter": "python",
   "pygments_lexer": "ipython3",
   "version": "3.11.4"
  }
 },
 "nbformat": 4,
 "nbformat_minor": 5
}
