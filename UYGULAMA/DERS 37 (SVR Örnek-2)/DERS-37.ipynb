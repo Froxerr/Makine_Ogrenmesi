{
 "cells": [
  {
   "cell_type": "code",
   "execution_count": null,
   "id": "f1614d39",
   "metadata": {},
   "outputs": [],
   "source": [
    "import yfinance as yf #pip install yahoo-finance\n",
    "import numpy as np\n",
    "from sklearn.preprocessing import StandardScaler\n",
    "from sklearn.svm import SVR\n",
    "import matplotlib.pyplot as plt\n",
    "import sklearn.metrics as mt"
   ]
  },
  {
   "cell_type": "code",
   "execution_count": null,
   "id": "75796bda",
   "metadata": {},
   "outputs": [],
   "source": [
    "data = yf.download(\"THYAO.IS\",start=\"2022-08-01\",end=\"2022-09-01\")\n",
    "df = data.copy()\n",
    "df.head()"
   ]
  },
  {
   "cell_type": "code",
   "execution_count": null,
   "id": "4d9b9a44",
   "metadata": {
    "scrolled": false
   },
   "outputs": [],
   "source": [
    "#Sadece Adj Close ve Tarihi alıyoruz\n",
    "#Tarih indekslenmiş olduğu için onu öncelikle indeksten kurtarıyoruz\n",
    "df = df.reset_index()\n",
    "df.head()"
   ]
  },
  {
   "cell_type": "code",
   "execution_count": null,
   "id": "0f07fe8d",
   "metadata": {},
   "outputs": [],
   "source": [
    "#Tarih sütununu parçalayıp sadece gün değerini almak istiyorum\n",
    "df[\"Date\"]"
   ]
  },
  {
   "cell_type": "code",
   "execution_count": null,
   "id": "9c618563",
   "metadata": {},
   "outputs": [],
   "source": [
    "df[\"Date\"].astype(str) #Parçalama işlemi yapabilmek için öncelikle str'e çevirmemiz gerekiyor"
   ]
  },
  {
   "cell_type": "code",
   "execution_count": null,
   "id": "f56ad868",
   "metadata": {},
   "outputs": [],
   "source": [
    "df[\"Date\"].astype(str).str.split(\"-\")"
   ]
  },
  {
   "cell_type": "code",
   "execution_count": null,
   "id": "dadac77e",
   "metadata": {},
   "outputs": [],
   "source": [
    "df[\"Date\"].astype(str).str.split(\"-\").str[2] # str[2] = Listenin içinde index numarası 2 olanları getiriyoruz"
   ]
  },
  {
   "cell_type": "code",
   "execution_count": null,
   "id": "d808c17e",
   "metadata": {},
   "outputs": [],
   "source": [
    "df[\"Day\"] = df[\"Date\"].astype(str).str.split(\"-\").str[2]"
   ]
  },
  {
   "cell_type": "code",
   "execution_count": null,
   "id": "d0e991b9",
   "metadata": {},
   "outputs": [],
   "source": [
    "df.head()"
   ]
  },
  {
   "cell_type": "code",
   "execution_count": null,
   "id": "77c1866b",
   "metadata": {},
   "outputs": [],
   "source": [
    "y = df[\"Adj Close\"]\n",
    "X = df[\"Day\"]"
   ]
  },
  {
   "cell_type": "code",
   "execution_count": null,
   "id": "0c515242",
   "metadata": {},
   "outputs": [],
   "source": [
    "#Veri setimiz küçük olduğu için train ve test ile çalışmayacağımız için verileri numpy ile array'e çeviriyoruz\n",
    "y = np.array(y).reshape(-1,1)\n",
    "X = np.array(X).reshape(-1,1)"
   ]
  },
  {
   "cell_type": "code",
   "execution_count": null,
   "id": "2042a677",
   "metadata": {},
   "outputs": [],
   "source": [
    "#Verileri SVR modeline çevirmeden önce standartlaştırma işlemi yapıyoruz\n",
    "scy = StandardScaler()\n",
    "scx = StandardScaler()\n",
    "\n",
    "X = scx.fit_transform(X)\n",
    "y = scy.fit_transform(y)"
   ]
  },
  {
   "cell_type": "code",
   "execution_count": null,
   "id": "b7be95f3",
   "metadata": {},
   "outputs": [],
   "source": [
    "svr_rbf = SVR(kernel=\"rbf\", C=10000)\n",
    "svr_rbf.fit(X,y.ravel())\n",
    "tahminRBF = svr_rbf.predict(X)\n",
    "\n",
    "svr_lin = SVR(kernel=\"linear\")\n",
    "svr_lin.fit(X,y.ravel())\n",
    "tahminLIN = svr_lin.predict(X)\n",
    "\n",
    "svr_poly = SVR(kernel=\"poly\",degree=5)\n",
    "svr_poly.fit(X,y.ravel())\n",
    "tahminPOLY = svr_poly.predict(X)"
   ]
  },
  {
   "cell_type": "code",
   "execution_count": null,
   "id": "2b663a47",
   "metadata": {},
   "outputs": [],
   "source": [
    "plt.scatter(X,y, color=\"red\")\n",
    "plt.plot(X,tahminRBF,color=\"green\",label=\"RBF Model\")\n",
    "plt.plot(X,tahminLIN,color=\"blue\",label=\"Linear Model\")\n",
    "plt.plot(X,tahminPOLY,color=\"black\",label=\"Poly Model\")\n",
    "plt.legend()\n",
    "plt.show()"
   ]
  },
  {
   "cell_type": "code",
   "execution_count": null,
   "id": "5417d42f",
   "metadata": {},
   "outputs": [],
   "source": [
    "#En iyi çalıştığını gözlemlediğimiz yapı RBF modeli oluyor\n",
    "\n",
    "r2 = mt.r2_score(y,tahminRBF)\n",
    "rmse = mt.mean_squared_error(y,tahminRBF,squared=False)\n",
    "\n",
    "print(f\"R2: {r2} RMSE: {rmse}\")\n",
    "\n",
    "plt.scatter(X,y, color=\"red\")\n",
    "plt.plot(X,tahminRBF,color=\"green\",label=\"RBF Model\")\n",
    "plt.legend()\n",
    "plt.show()"
   ]
  }
 ],
 "metadata": {
  "kernelspec": {
   "display_name": "Python 3 (ipykernel)",
   "language": "python",
   "name": "python3"
  },
  "language_info": {
   "codemirror_mode": {
    "name": "ipython",
    "version": 3
   },
   "file_extension": ".py",
   "mimetype": "text/x-python",
   "name": "python",
   "nbconvert_exporter": "python",
   "pygments_lexer": "ipython3",
   "version": "3.11.4"
  }
 },
 "nbformat": 4,
 "nbformat_minor": 5
}
