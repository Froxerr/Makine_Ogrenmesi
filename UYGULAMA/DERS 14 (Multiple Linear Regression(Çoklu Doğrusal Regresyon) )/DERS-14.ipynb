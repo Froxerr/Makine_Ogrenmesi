{
 "cells": [
  {
   "cell_type": "code",
   "execution_count": null,
   "id": "b70f03c6",
   "metadata": {},
   "outputs": [],
   "source": [
    "import pandas as pd\n",
    "import matplotlib.pyplot as plt\n",
    "import seaborn as sns\n",
    "import statsmodels.api as sm\n",
    "from sklearn.model_selection import train_test_split\n",
    "from sklearn.linear_model import LinearRegression"
   ]
  },
  {
   "cell_type": "code",
   "execution_count": null,
   "id": "00af2164",
   "metadata": {},
   "outputs": [],
   "source": [
    "data = pd.read_csv(\"advertising.csv\")\n",
    "df = data.copy()\n",
    "df.head()"
   ]
  },
  {
   "cell_type": "code",
   "execution_count": null,
   "id": "e721ef8b",
   "metadata": {},
   "outputs": [],
   "source": [
    "print(df.isnull().sum())\n",
    "print(df.dtypes)"
   ]
  },
  {
   "cell_type": "code",
   "execution_count": null,
   "id": "cb40c740",
   "metadata": {},
   "outputs": [],
   "source": [
    "#Birbirleri arasındaki korelasyonu inceleme\n",
    "print(df.corr()[\"Sales\"])\n",
    "sns.pairplot(df,kind=\"reg\")\n",
    "plt.show()"
   ]
  },
  {
   "cell_type": "code",
   "execution_count": null,
   "id": "0a8b32f4",
   "metadata": {},
   "outputs": [],
   "source": [
    "#Aykırı değer gözlemi yapma işlemi\n",
    "sns.boxplot(df[\"Newspaper\"])\n",
    "plt.show()"
   ]
  },
  {
   "cell_type": "code",
   "execution_count": null,
   "id": "0cbe2a78",
   "metadata": {},
   "outputs": [],
   "source": [
    "#Aykırı gözlem değerini baskılama işlemi\n",
    "Q1 = df[\"Newspaper\"].quantile(0.25)\n",
    "Q3 = df[\"Newspaper\"].quantile(0.75)\n",
    "\n",
    "IQR = Q3-Q1\n",
    "ustsinir = Q3+1.5*IQR\n",
    "aykiri = df[\"Newspaper\"] > ustsinir\n",
    "df.loc[aykiri,\"Newspaper\"] = ustsinir\n",
    "sns.boxplot(df[\"Newspaper\"])\n",
    "plt.show()"
   ]
  },
  {
   "cell_type": "code",
   "execution_count": null,
   "id": "7bd61891",
   "metadata": {},
   "outputs": [],
   "source": [
    "y = df[\"Sales\"]\n",
    "X = df[[\"TV\",\"Radio\"]]\n",
    "\n",
    "sabit = sm.add_constant(X)\n",
    "model = sm.OLS(y,sabit).fit()\n",
    "print(model.summary())"
   ]
  },
  {
   "cell_type": "code",
   "execution_count": null,
   "id": "eb44d0c3",
   "metadata": {},
   "outputs": [],
   "source": [
    "#Yapıyı makine öğrenmesine çevirme işlemi\n",
    "X_train,X_test,y_train,y_test = train_test_split(X,y,test_size=0.2,random_state=42)\n",
    "lr = LinearRegression()\n",
    "lr.fit(X_train,y_train)\n",
    "\n",
    "tahmin = lr.predict(X_test) #Modelin öğrenmiş olduğu yapıyı X_test ile test ediyoruz\n",
    "\n",
    "df2 = pd.DataFrame({\"Gerçek\":y_test, \"Tahmin\":tahmin}).sort_index()# Ettiğimiz test sonucunu\n",
    "#gerçek değeriyle karşılaştırıyoruz\n",
    "df2.plot(kind=\"line\")\n",
    "plt.show()"
   ]
  }
 ],
 "metadata": {
  "kernelspec": {
   "display_name": "Python 3 (ipykernel)",
   "language": "python",
   "name": "python3"
  },
  "language_info": {
   "codemirror_mode": {
    "name": "ipython",
    "version": 3
   },
   "file_extension": ".py",
   "mimetype": "text/x-python",
   "name": "python",
   "nbconvert_exporter": "python",
   "pygments_lexer": "ipython3",
   "version": "3.11.4"
  }
 },
 "nbformat": 4,
 "nbformat_minor": 5
}
