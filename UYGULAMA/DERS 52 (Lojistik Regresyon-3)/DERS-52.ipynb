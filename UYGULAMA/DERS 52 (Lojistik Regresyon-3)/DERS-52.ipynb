{
 "cells": [
  {
   "cell_type": "code",
   "execution_count": null,
   "id": "edf7a622",
   "metadata": {},
   "outputs": [],
   "source": [
    "import pandas as pd\n",
    "from sklearn.model_selection import train_test_split\n",
    "from sklearn.preprocessing import StandardScaler\n",
    "from sklearn.linear_model import LogisticRegression\n",
    "from sklearn.metrics import confusion_matrix,accuracy_score,classification_report,roc_curve,roc_auc_score\n",
    "import matplotlib.pyplot as plt"
   ]
  },
  {
   "cell_type": "code",
   "execution_count": null,
   "id": "a3c1f44f",
   "metadata": {},
   "outputs": [],
   "source": [
    "data = pd.read_csv(\"data.csv\")\n",
    "df = data.copy()\n",
    "df.drop([\"id\",\"Unnamed: 32\"],axis=1,inplace=True)\n",
    "\n",
    "#Kötü huylu olmasının üzerine yoğunlaştığımız için 'M' gördüğümüz yere 1 değerini vereceğiz\n",
    "\n",
    "df.diagnosis = [1 if kod == \"M\" else 0 for kod in df.diagnosis]\n",
    "\n",
    "\n",
    "y = df[\"diagnosis\"]\n",
    "X = df.drop(\"diagnosis\",axis=1)\n",
    "\n",
    "X_train,X_test,y_train,y_test = train_test_split(X,y,test_size=0.2,random_state=42)\n",
    "\n",
    "sc = StandardScaler()\n",
    "\n",
    "X_train = sc.fit_transform(X_train)\n",
    "X_test = sc.transform(X_test)\n",
    "\n",
    "model = LogisticRegression(random_state=0)\n",
    "model.fit(X_train,y_train)\n",
    "tahmin = model.predict(X_test)\n",
    "\n",
    "#Hata matrisi yapısını oluşturma işlemleri\n",
    "\n",
    "cm = confusion_matrix(y_test,tahmin)\n",
    "print(cm)#70 = TP | 1 = FN | 2 = FP | 41 = TN\n",
    "\n",
    "acs = accuracy_score(y_test,tahmin)\n",
    "print(acs) #0.9736842105263158 oranında doğruluk oranı vardır yani TP İLE TN'Yİ toplayıp tüm toplama bölme işlemi\n",
    "#1-Doğruluk (Accuracy): (TP + TN) / (TP + FP + TN + FN) | Modeli yüzde kaç tahmin ettiğini verir\n",
    "cr = classification_report(y_test,tahmin)\n",
    "print(cr) \n",
    "#3- Hassasiyet(Kesinlik)(Precision): TP / (TP + FP) | Hassasiyet, modelinizin spam olarak tahmin ettiği\n",
    "#değerlerin ne kadarının gerçekten spam olduğunu ölçer. Yani, modelinizin spam olarak etiketlediği örneklerin kaçı \n",
    "#gerçekten spamdır. Bu, modelinizin yanlış pozitif (spam olmayan bir e-postayı spam olarak işaretleme) hatalarını ne\n",
    "#kadar az yaptığınızı gösterir\n",
    "\n",
    "#4- Duyarlılık (Recall): TP / (TP + FN) | Duyarlılık, gerçek spam olan örneklerin kaçını doğru bir şekilde \n",
    "#tespit ettiğinizi ölçer\n",
    "\n",
    "#5- F1-Score (F1-Skoru): 2 * (Hassasiyet * Duyarlılık) / (Hassasiyet + Duyarlılık) |\n",
    "#Hem kesinlik hem de duyarlılık üzerinden bir işlem gerçekleştiriyor | "
   ]
  },
  {
   "cell_type": "code",
   "execution_count": null,
   "id": "f8451ad0",
   "metadata": {},
   "outputs": [],
   "source": [
    "#ROC Curve (ROC Eğrisi) = TP ile FP oranları birbiriyle kıyaslamasını gösteren bir eğri yapısı.\n",
    "auc = roc_auc_score(y_test,tahmin)\n",
    "#fpr = false oran yapısı\n",
    "#tpr = doğruluk oran yapısı\n",
    "#thresold = allows us to map the sigmoid output of a binary classification to a binary category.\n",
    "fpr,tpr,thresold = roc_curve(y_test,model.predict_proba(X_test)[:,1])\n",
    "plt.plot(fpr,tpr,label=\"Model AUC (Alan=%0.2f)\" % auc)\n",
    "plt.plot([0,1],[0,1],\"r--\")\n",
    "plt.xlabel(\"False Positive Oranı\")\n",
    "plt.ylabel(\"True Positive Oranı\")\n",
    "plt.title(\"ROC\")\n",
    "plt.legend(loc=\"lower right\")\n",
    "plt.show()"
   ]
  }
 ],
 "metadata": {
  "kernelspec": {
   "display_name": "Python 3 (ipykernel)",
   "language": "python",
   "name": "python3"
  },
  "language_info": {
   "codemirror_mode": {
    "name": "ipython",
    "version": 3
   },
   "file_extension": ".py",
   "mimetype": "text/x-python",
   "name": "python",
   "nbconvert_exporter": "python",
   "pygments_lexer": "ipython3",
   "version": "3.11.4"
  }
 },
 "nbformat": 4,
 "nbformat_minor": 5
}
