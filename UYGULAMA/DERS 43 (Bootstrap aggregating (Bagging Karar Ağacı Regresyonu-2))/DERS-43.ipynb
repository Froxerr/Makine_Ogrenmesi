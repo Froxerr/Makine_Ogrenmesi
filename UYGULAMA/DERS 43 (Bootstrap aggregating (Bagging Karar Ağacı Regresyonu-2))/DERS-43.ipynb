{
 "cells": [
  {
   "cell_type": "code",
   "execution_count": null,
   "id": "a1b0459e",
   "metadata": {},
   "outputs": [],
   "source": [
    "import pandas as pd\n",
    "from sklearn.model_selection import train_test_split\n",
    "from sklearn.tree import DecisionTreeRegressor\n",
    "import sklearn.metrics as mt\n",
    "from sklearn.ensemble import BaggingRegressor"
   ]
  },
  {
   "cell_type": "code",
   "execution_count": null,
   "id": "55a81a26",
   "metadata": {},
   "outputs": [],
   "source": [
    "data = pd.read_csv(\"advertising.csv\")\n",
    "df = data.copy()\n",
    "df.head()"
   ]
  },
  {
   "cell_type": "code",
   "execution_count": null,
   "id": "5ce11875",
   "metadata": {},
   "outputs": [],
   "source": [
    "y = df[\"Sales\"]\n",
    "X = df.drop(\"Sales\",axis=1)\n",
    "\n",
    "X_train,X_test,y_train,y_test = train_test_split(X,y,test_size=0.2,random_state=42)\n",
    "\n",
    "dtmodel = DecisionTreeRegressor(random_state=0)\n",
    "dtmodel.fit(X_train,y_train)\n",
    "\n",
    "tahmin = dtmodel.predict(X_test)\n",
    "tahmin"
   ]
  },
  {
   "cell_type": "code",
   "execution_count": null,
   "id": "f03cc0c3",
   "metadata": {},
   "outputs": [],
   "source": [
    "r2 = mt.r2_score(y_test,tahmin)\n",
    "rmse = mt.mean_squared_error(y_test,tahmin,squared=False)\n",
    "\n",
    "print(f\"Karar Ağacı R2: {r2},Karar Ağacı RMSE: {rmse}\")"
   ]
  },
  {
   "cell_type": "code",
   "execution_count": null,
   "id": "7d41470f",
   "metadata": {},
   "outputs": [],
   "source": [
    "#Bagging model yapısının kurulumu\n",
    "\n",
    "bgmodel = BaggingRegressor(random_state=0)\n",
    "bgmodel.fit(X_train,y_train)\n",
    "\n",
    "bgtahmin = bgmodel.predict(X_test)\n",
    "\n",
    "r2_2 = mt.r2_score(y_test,bgtahmin)\n",
    "rmse_2 = mt.mean_squared_error(y_test,bgtahmin,squared=False)\n",
    "\n",
    "print(f\"Bagging R2: {r2_2},Bagging RMSE: {rmse_2}\")"
   ]
  }
 ],
 "metadata": {
  "kernelspec": {
   "display_name": "Python 3 (ipykernel)",
   "language": "python",
   "name": "python3"
  },
  "language_info": {
   "codemirror_mode": {
    "name": "ipython",
    "version": 3
   },
   "file_extension": ".py",
   "mimetype": "text/x-python",
   "name": "python",
   "nbconvert_exporter": "python",
   "pygments_lexer": "ipython3",
   "version": "3.11.4"
  }
 },
 "nbformat": 4,
 "nbformat_minor": 5
}
