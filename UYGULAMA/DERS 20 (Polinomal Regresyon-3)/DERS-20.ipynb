{
 "cells": [
  {
   "cell_type": "code",
   "execution_count": null,
   "id": "9ad8eb2e",
   "metadata": {},
   "outputs": [],
   "source": [
    "import pandas as pd\n",
    "import matplotlib.pyplot as plt\n",
    "import seaborn as sns\n",
    "from sklearn.linear_model import LinearRegression\n",
    "from sklearn.model_selection import train_test_split\n",
    "from sklearn.preprocessing import PolynomialFeatures\n",
    "import sklearn.metrics as mt"
   ]
  },
  {
   "cell_type": "code",
   "execution_count": null,
   "id": "bcc286cc",
   "metadata": {},
   "outputs": [],
   "source": [
    "data = pd.read_csv(\"Real_estate.csv\")\n",
    "df = data.copy()\n",
    "df.head()"
   ]
  },
  {
   "cell_type": "code",
   "execution_count": null,
   "id": "f027a014",
   "metadata": {},
   "outputs": [],
   "source": [
    "df.info()\n",
    "#İşimize yaramayacak olan verileri silme işlemi\n",
    "df.drop(columns=[\"No\",\"X1 transaction date\",\"X5 latitude\",\"X6 longitude\"],inplace=True,axis=1)\n",
    "df = df.rename(columns={\"X2 house age\":\"Ev Yaşı\",\n",
    "                        \"X3 distance to the nearest MRT station\":\"Metro Uzaklık\",\n",
    "                        \"X4 number of convenience stores\":\"Market Sayısı\",\n",
    "                        \"Y house price of unit area\":\"Ev Fiyatı\"})\n",
    "df.head()"
   ]
  },
  {
   "cell_type": "code",
   "execution_count": null,
   "id": "bc180c77",
   "metadata": {},
   "outputs": [],
   "source": [
    "print(df.isnull().sum())"
   ]
  },
  {
   "cell_type": "code",
   "execution_count": null,
   "id": "27a01b13",
   "metadata": {},
   "outputs": [],
   "source": [
    "sns.pairplot(df)\n",
    "plt.show()"
   ]
  },
  {
   "cell_type": "code",
   "execution_count": null,
   "id": "03cfc809",
   "metadata": {},
   "outputs": [],
   "source": [
    "#Aykırı gözlem değerlerini bulma yöntemi\n",
    "#Metro Uzaklık - max\n",
    "#Ev Fiyatı - max\n",
    "sns.boxplot(df[\"Ev Fiyatı\"])\n",
    "plt.show()"
   ]
  },
  {
   "cell_type": "code",
   "execution_count": null,
   "id": "d7f3805a",
   "metadata": {},
   "outputs": [],
   "source": [
    "#Metro Uzaklık için\n",
    "#Bulunan aykırı gözlem değerlerini baskılama yöntemi\n",
    "q1 = df[\"Metro Uzaklık\"].quantile(0.25)\n",
    "q3 = df[\"Metro Uzaklık\"].quantile(0.75)\n",
    "IQR = q3 - q1 \n",
    "ustsinir = q3 + 1.5*IQR\n",
    "\n",
    "df.loc[df[\"Metro Uzaklık\"]>ustsinir,\"Metro Uzaklık\"] = ustsinir\n",
    "sns.boxplot(df[\"Metro Uzaklık\"])\n",
    "plt.show()"
   ]
  },
  {
   "cell_type": "code",
   "execution_count": null,
   "id": "6d7d28b5",
   "metadata": {},
   "outputs": [],
   "source": [
    "#Ev Fiyatı için\n",
    "#Bulunan aykırı gözlem değerlerini baskılama yöntemi\n",
    "q1 = df[\"Ev Fiyatı\"].quantile(0.25)\n",
    "q3 = df[\"Ev Fiyatı\"].quantile(0.75)\n",
    "IQR = q3 - q1 \n",
    "ustsinir = q3 + 1.5*IQR\n",
    "\n",
    "df.loc[df[\"Ev Fiyatı\"]>ustsinir,\"Ev Fiyatı\"] = ustsinir\n",
    "sns.boxplot(df[\"Ev Fiyatı\"])\n",
    "plt.show()"
   ]
  },
  {
   "cell_type": "code",
   "execution_count": null,
   "id": "f6177f5c",
   "metadata": {},
   "outputs": [],
   "source": [
    "#Linear karşılaştırma\n",
    "y = df[\"Ev Fiyatı\"]\n",
    "X = df.drop(columns=\"Ev Fiyatı\",axis=1)\n",
    "X_train,X_test,y_train,y_test = train_test_split(X,y,test_size=0.2,random_state=42)\n",
    "lr = LinearRegression().fit(X_train,y_train)\n",
    "\n",
    "tahmin = lr.predict(X_test)\n",
    "\n",
    "r2 = mt.r2_score(y_test,tahmin)\n",
    "mse = mt.mean_squared_error(y_test,tahmin)\n",
    "\n",
    "print(f\"R2: {r2}, MSE: {mse}\")"
   ]
  },
  {
   "cell_type": "code",
   "execution_count": null,
   "id": "8448e835",
   "metadata": {},
   "outputs": [],
   "source": [
    "y = df[\"Ev Fiyatı\"]\n",
    "X = df.drop(columns=\"Ev Fiyatı\",axis=1)\n",
    "\n",
    "pol = PolynomialFeatures(degree=3)\n",
    "X_pol = pol.fit_transform(X)\n",
    "\n",
    "X_train,X_test,y_train,y_test = train_test_split(X_pol,y,test_size=0.2,random_state=42)\n",
    "\n",
    "pol_reg = LinearRegression()\n",
    "pol_reg.fit(X_train,y_train)\n",
    "\n",
    "tahmin = pol_reg.predict(X_test)\n",
    "\n",
    "r2 = mt.r2_score(y_test,tahmin)\n",
    "mse = mt.mean_squared_error(y_test,tahmin)\n",
    "\n",
    "print(f\"R2: {r2}, MSE: {mse}\")"
   ]
  }
 ],
 "metadata": {
  "kernelspec": {
   "display_name": "Python 3 (ipykernel)",
   "language": "python",
   "name": "python3"
  },
  "language_info": {
   "codemirror_mode": {
    "name": "ipython",
    "version": 3
   },
   "file_extension": ".py",
   "mimetype": "text/x-python",
   "name": "python",
   "nbconvert_exporter": "python",
   "pygments_lexer": "ipython3",
   "version": "3.11.4"
  }
 },
 "nbformat": 4,
 "nbformat_minor": 5
}
