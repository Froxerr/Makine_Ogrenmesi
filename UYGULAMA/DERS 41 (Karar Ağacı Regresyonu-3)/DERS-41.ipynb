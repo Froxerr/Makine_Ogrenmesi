{
 "cells": [
  {
   "cell_type": "code",
   "execution_count": null,
   "id": "7885b213",
   "metadata": {},
   "outputs": [],
   "source": [
    "import pandas as pd\n",
    "from sklearn.model_selection import train_test_split, GridSearchCV\n",
    "from sklearn.tree import DecisionTreeRegressor\n",
    "import sklearn.metrics as mt"
   ]
  },
  {
   "cell_type": "code",
   "execution_count": null,
   "id": "4368f94c",
   "metadata": {},
   "outputs": [],
   "source": [
    "data = pd.read_csv(\"https://raw.githubusercontent.com/mk-gurucharan/Regression/master/IceCreamData.csv\")\n",
    "df = data.copy()\n",
    "df.head()\n",
    "#Hava sıcaklığına karşı satılan dondurma geliri"
   ]
  },
  {
   "cell_type": "code",
   "execution_count": null,
   "id": "1eb2a799",
   "metadata": {},
   "outputs": [],
   "source": [
    "y = df[\"Revenue\"]\n",
    "X = df[\"Temperature\"]\n",
    "\n",
    "X_train,X_test,y_train,y_test = train_test_split(X,y,test_size=0.1,random_state=42)\n",
    "\n",
    "model = DecisionTreeRegressor(random_state=0)\n",
    "model.fit(X_train.values.reshape(-1,1),y_train.values.reshape(-1,1))\n",
    "\n",
    "tahmin = model.predict(X_test.values.reshape(-1,1))\n",
    "\n",
    "tahmin\n",
    "#Verinin orijinal yapısında dizi (array) yapısı olmadığı için hata alıyoruz\n",
    "#.values.reshape(-1,1) ile fit ve tahmin işlemlerine eklemeler yapıyoruz, hatadan kurtulmak için"
   ]
  },
  {
   "cell_type": "code",
   "execution_count": null,
   "id": "d32e7d74",
   "metadata": {},
   "outputs": [],
   "source": [
    "r2 = mt.r2_score(y_test,tahmin)\n",
    "mse = mt.mean_squared_error(y_test,tahmin)\n",
    "\n",
    "print(f\"R2: {r2}, MSE: {mse}\")"
   ]
  },
  {
   "cell_type": "code",
   "execution_count": null,
   "id": "7c9a558f",
   "metadata": {},
   "outputs": [],
   "source": [
    "#Hyperparametre ayarlama işlemleri\n",
    "parametreler = {\n",
    "    \"min_samples_split\":range(2,50),\n",
    "    \"max_leaf_nodes\":range(2,50)\n",
    "}\n",
    "\n",
    "grid = GridSearchCV(estimator=model,param_grid=parametreler,cv=10)\n",
    "grid.fit(X_train.values.reshape(-1,1),y_train.values.reshape(-1,1))\n",
    "\n",
    "decisiontree_grid = grid.best_params_"
   ]
  },
  {
   "cell_type": "code",
   "execution_count": null,
   "id": "e4948089",
   "metadata": {},
   "outputs": [],
   "source": [
    "max_leaf_nodes_value = param_dict['max_leaf_nodes']\n"
   ]
  },
  {
   "cell_type": "code",
   "execution_count": null,
   "id": "7e4fe539",
   "metadata": {},
   "outputs": [],
   "source": [
    "#'max_leaf_nodes': 21, 'min_samples_split': 17\n",
    "\n",
    "y = df[\"Revenue\"]\n",
    "X = df[\"Temperature\"]\n",
    "\n",
    "X_train,X_test,y_train,y_test = train_test_split(X,y,test_size=0.1,random_state=42)\n",
    "\n",
    "model = DecisionTreeRegressor(random_state=0,max_leaf_nodes=21,min_samples_split=17)\n",
    "model.fit(X_train.values.reshape(-1,1),y_train.values.reshape(-1,1))\n",
    "\n",
    "tahmin = model.predict(X_test.values.reshape(-1,1))\n",
    "\n",
    "r2 = mt.r2_score(y_test,tahmin)\n",
    "mse = mt.mean_squared_error(y_test,tahmin)\n",
    "\n",
    "print(f\"R2: {r2}, MSE: {mse}\")"
   ]
  }
 ],
 "metadata": {
  "kernelspec": {
   "display_name": "Python 3 (ipykernel)",
   "language": "python",
   "name": "python3"
  },
  "language_info": {
   "codemirror_mode": {
    "name": "ipython",
    "version": 3
   },
   "file_extension": ".py",
   "mimetype": "text/x-python",
   "name": "python",
   "nbconvert_exporter": "python",
   "pygments_lexer": "ipython3",
   "version": "3.11.4"
  }
 },
 "nbformat": 4,
 "nbformat_minor": 5
}
