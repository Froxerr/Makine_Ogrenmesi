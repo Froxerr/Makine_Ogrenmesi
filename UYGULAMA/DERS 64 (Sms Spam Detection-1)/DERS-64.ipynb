{
 "cells": [
  {
   "cell_type": "code",
   "execution_count": null,
   "id": "d032e839",
   "metadata": {},
   "outputs": [],
   "source": [
    "import pandas as pd\n",
    "import chardet\n",
    "import matplotlib.pyplot as plt\n",
    "import re \n",
    "from sklearn.preprocessing import LabelEncoder\n",
    "import nltk\n",
    "nltk.download(\"stopwords\")\n",
    "from nltk.corpus import stopwords"
   ]
  },
  {
   "cell_type": "code",
   "execution_count": null,
   "id": "fd6b4070",
   "metadata": {},
   "outputs": [],
   "source": [
    "#Eğer farklı bir coding yapısı varsa o coding yapısını nasıl çözeriz\n",
    "with open(\"spam.csv\",\"rb\") as f:\n",
    "    sonuc = chardet.detect(f.read())\n",
    "print(sonuc)"
   ]
  },
  {
   "cell_type": "code",
   "execution_count": null,
   "id": "e1ea76ae",
   "metadata": {},
   "outputs": [],
   "source": [
    "data = pd.read_csv(\"spam.csv\", encoding = \"Windows-1252\")\n",
    "df = data.copy()\n",
    "df.drop([\"Unnamed: 2\",\"Unnamed: 3\",\"Unnamed: 4\"],axis=1,inplace=True)\n",
    "df"
   ]
  },
  {
   "cell_type": "code",
   "execution_count": null,
   "id": "3efc36e5",
   "metadata": {},
   "outputs": [],
   "source": [
    "df.isnull().sum()"
   ]
  },
  {
   "cell_type": "code",
   "execution_count": null,
   "id": "977345ce",
   "metadata": {},
   "outputs": [],
   "source": [
    "df.dtypes"
   ]
  },
  {
   "cell_type": "code",
   "execution_count": null,
   "id": "33de7d46",
   "metadata": {},
   "outputs": [],
   "source": [
    "df = df.rename(columns={\n",
    "    \"v1\":\"Etiket\",\n",
    "    \"v2\":\"Sms\"\n",
    "})\n",
    "df.head()"
   ]
  },
  {
   "cell_type": "code",
   "execution_count": null,
   "id": "74aeb7fc",
   "metadata": {},
   "outputs": [],
   "source": [
    "df.groupby(\"Etiket\").count()"
   ]
  },
  {
   "cell_type": "code",
   "execution_count": null,
   "id": "f51366c5",
   "metadata": {},
   "outputs": [],
   "source": [
    "df.describe() #unique = tekrarsız olarak duranlar demek bizim için tekrarlı olmaları kötü sonuçta tahmin etme işleminde\n",
    "#o bilgiden fazla olduğu için yanlı bir tahmin etme problemiyle karşı karşıya bırakabilir.\n",
    "#bu yüzden tekrarlayanları silicez\n",
    "df = df.drop_duplicates()\n",
    "df.describe()"
   ]
  },
  {
   "cell_type": "code",
   "execution_count": null,
   "id": "f83454d0",
   "metadata": {},
   "outputs": [],
   "source": [
    "df[\"Karakter Sayısı\"] = df[\"Sms\"].apply(len)\n",
    "df"
   ]
  },
  {
   "cell_type": "code",
   "execution_count": null,
   "id": "57b180d8",
   "metadata": {},
   "outputs": [],
   "source": [
    "df.hist(\"Karakter Sayısı\",by=\"Etiket\",bins=50)\n",
    "plt.show()"
   ]
  },
  {
   "cell_type": "code",
   "execution_count": null,
   "id": "886613cd",
   "metadata": {},
   "outputs": [],
   "source": [
    "le = LabelEncoder()\n",
    "df[\"Etiket\"] = le.fit_transform(df[\"Etiket\"])\n",
    "df"
   ]
  },
  {
   "cell_type": "code",
   "execution_count": null,
   "id": "9612967b",
   "metadata": {},
   "outputs": [],
   "source": [
    "#re.sub(\"[^a-zA-Z]\",\" \",df[\"Sms\"][0]) = a-z = Küçük harflerin a'dan z'ye dolaş | Büyük harflerin A'dan Z'ye dolaş\n",
    "#^ Bu dolaştıkların haricinde anlamı katar\n",
    "#, \"\" = \"\" İçinde ne yazarsa bu dolaştıkların haricinde o ile doldur biz boşluk verdik yani rakamlar diğer şeyler gidicek.\n",
    "mesaj = re.sub(\"[^a-zA-Z]\",\" \",df[\"Sms\"][0])\n",
    "print(df[\"Sms\"][0])\n",
    "print(mesaj)"
   ]
  },
  {
   "cell_type": "code",
   "execution_count": null,
   "id": "65af561d",
   "metadata": {},
   "outputs": [],
   "source": [
    "def harfler(cumle):\n",
    "    #re.compile(\"[^a-zA-Z]\") = Alfabade bulunan değerleri topla ve yer adlı değişkene ata\n",
    "    yer = re.compile(\"[^a-zA-Z]\")\n",
    "    return re.sub(yer,\" \",cumle)\n",
    "print(harfler(\"tuy11RTF\"))"
   ]
  },
  {
   "cell_type": "code",
   "execution_count": null,
   "id": "aadef850",
   "metadata": {},
   "outputs": [],
   "source": [
    "print(df[\"Sms\"][0])\n",
    "print(harfler(df[\"Sms\"][0]))"
   ]
  },
  {
   "cell_type": "code",
   "execution_count": null,
   "id": "5fbc13e8",
   "metadata": {},
   "outputs": [],
   "source": [
    "durdurma = stopwords.words(\"english\")\n",
    "print(durdurma)"
   ]
  }
 ],
 "metadata": {
  "kernelspec": {
   "display_name": "Python 3 (ipykernel)",
   "language": "python",
   "name": "python3"
  },
  "language_info": {
   "codemirror_mode": {
    "name": "ipython",
    "version": 3
   },
   "file_extension": ".py",
   "mimetype": "text/x-python",
   "name": "python",
   "nbconvert_exporter": "python",
   "pygments_lexer": "ipython3",
   "version": "3.11.4"
  }
 },
 "nbformat": 4,
 "nbformat_minor": 5
}
