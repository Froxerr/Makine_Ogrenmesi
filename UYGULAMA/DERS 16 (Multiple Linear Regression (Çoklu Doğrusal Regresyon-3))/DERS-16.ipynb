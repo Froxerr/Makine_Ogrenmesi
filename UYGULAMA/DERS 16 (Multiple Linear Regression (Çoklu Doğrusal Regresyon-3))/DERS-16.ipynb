{
 "cells": [
  {
   "cell_type": "code",
   "execution_count": null,
   "id": "5b9e9163",
   "metadata": {},
   "outputs": [],
   "source": [
    "#Kategorik değişkenleri regresyon modeline nasıl entegre ediyoruz, bu işlemleri yapacağız"
   ]
  },
  {
   "cell_type": "code",
   "execution_count": null,
   "id": "fd407ed8",
   "metadata": {},
   "outputs": [],
   "source": [
    "import pandas as pd\n",
    "import matplotlib.pyplot as plt\n",
    "import seaborn as sns\n",
    "from sklearn.model_selection import train_test_split\n",
    "from sklearn.linear_model import LinearRegression\n",
    "import sklearn.metrics as mt"
   ]
  },
  {
   "cell_type": "code",
   "execution_count": null,
   "id": "7140562e",
   "metadata": {},
   "outputs": [],
   "source": [
    "data = sns.load_dataset(\"tips\")\n",
    "df = data.copy()\n",
    "df.head()"
   ]
  },
  {
   "cell_type": "code",
   "execution_count": null,
   "id": "0884655e",
   "metadata": {},
   "outputs": [],
   "source": [
    "df.isnull().sum()"
   ]
  },
  {
   "cell_type": "code",
   "execution_count": null,
   "id": "cb37ba93",
   "metadata": {},
   "outputs": [],
   "source": [
    "df.dtypes"
   ]
  },
  {
   "cell_type": "code",
   "execution_count": null,
   "id": "a5dee9a3",
   "metadata": {},
   "outputs": [],
   "source": [
    "#Sadece kategori değişkenli yapıların başlıklarını alacağız, çünkü çok büyük bir veri ile\n",
    "#çalışsaydık her birine ulaşmak çok fazla zaman alırdı\n",
    "kategori = [i for i in kategorik.columns]\n",
    "kategorik = df.select_dtypes(include=[\"category\"]) # Biz sadece 'dtypes' kategorisi olanları \n",
    "#filtreleme işlemi gerçekleştirdik\n",
    "#Bu filtreleme yaptığımız kategorik değişkenin içinde bulunan kategorileri 'kategori' adlı bir değişkene atacağız\n",
    "print(kategorik)\n",
    "print(kategori)"
   ]
  },
  {
   "cell_type": "code",
   "execution_count": null,
   "id": "0dec93d5",
   "metadata": {},
   "outputs": [],
   "source": [
    "df = pd.get_dummies(df,columns=kategori,drop_first=True)\n",
    "print(df)"
   ]
  },
  {
   "cell_type": "code",
   "execution_count": null,
   "id": "71c072fd",
   "metadata": {},
   "outputs": [],
   "source": [
    "#Cinsiyetleri, Sigara içip içmedikleri, Hangi gün geldikleri. Bu değerler arasında tip ile herhangi bir ilişki var mı\n",
    "#Örneğin, cumartesi gelenler daha fazla bahşiş bırakıyor, sigara içenler daha fazla bahşiş bırakıyor \n",
    "#gibi bir çıkarım yapmak\n",
    "y = df[\"tip\"]\n",
    "X = df.drop(\"tip\",axis=1)\n",
    "print(X)"
   ]
  },
  {
   "cell_type": "code",
   "execution_count": null,
   "id": "1f922636",
   "metadata": {},
   "outputs": [],
   "source": [
    "X_train,X_test,y_train,y_test = train_test_split(X,y,test_size=0.2,random_state=42)\n",
    "\n",
    "lr = LinearRegression().fit(X_train,y_train)\n",
    "tahmin = lr.predict(X_test)\n",
    "\n",
    "df = pd.DataFrame({\"Gerçek\":y_test,\"Tahmin\":tahmin}).sort_index()\n",
    "df.plot(kind=\"line\")\n",
    "plt.show()"
   ]
  },
  {
   "cell_type": "code",
   "execution_count": null,
   "id": "c8b841b0",
   "metadata": {},
   "outputs": [],
   "source": [
    "r2= mt.r2_score(y_test,tahmin)\n",
    "print(r2) #Değer 1'den uzak olduğu için aslında elimizdeki veri setinin modele çok uyumsuz olduğunu söylüyor"
   ]
  }
 ],
 "metadata": {
  "kernelspec": {
   "display_name": "Python 3 (ipykernel)",
   "language": "python",
   "name": "python3"
  },
  "language_info": {
   "codemirror_mode": {
    "name": "ipython",
    "version": 3
   },
   "file_extension": ".py",
   "mimetype": "text/x-python",
   "name": "python",
   "nbconvert_exporter": "python",
   "pygments_lexer": "ipython3",
   "version": "3.11.4"
  }
 },
 "nbformat": 4,
 "nbformat_minor": 5
}
