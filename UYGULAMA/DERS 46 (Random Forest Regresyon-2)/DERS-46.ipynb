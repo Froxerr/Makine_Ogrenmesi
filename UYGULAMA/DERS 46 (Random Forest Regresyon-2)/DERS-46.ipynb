{
 "cells": [
  {
   "cell_type": "code",
   "execution_count": null,
   "id": "ea585232",
   "metadata": {},
   "outputs": [],
   "source": [
    "import pandas as pd\n",
    "import numpy as np\n",
    "from sklearn.tree import DecisionTreeRegressor\n",
    "from sklearn.ensemble import RandomForestRegressor\n",
    "import matplotlib.pyplot as plt"
   ]
  },
  {
   "cell_type": "code",
   "execution_count": null,
   "id": "1f6ec827",
   "metadata": {},
   "outputs": [],
   "source": [
    "data = pd.read_csv(\"Position_Salaries.csv\")\n",
    "df = data.copy()\n",
    "df.head()"
   ]
  },
  {
   "cell_type": "code",
   "execution_count": null,
   "id": "ca5fc4fa",
   "metadata": {},
   "outputs": [],
   "source": [
    "y = df[\"Salary\"]\n",
    "X = df[\"Level\"]\n",
    "\n",
    "y = np.array(y).reshape(-1,1)\n",
    "X = np.array(X).reshape(-1,1)\n",
    "\n",
    "dt_model = DecisionTreeRegressor(random_state=0)\n",
    "dt_model.fit(X,y)\n",
    "dt_tahmin = dt_model.predict(X)\n"
   ]
  },
  {
   "cell_type": "code",
   "execution_count": null,
   "id": "5dd1d8ff",
   "metadata": {},
   "outputs": [],
   "source": [
    "#RandomForestRegressor Kurulumu\n",
    "rf_model = RandomForestRegressor(random_state=0)\n",
    "rf_model.fit(X,y.ravel())\n",
    "rf_tahmin = rf_model.predict(X)"
   ]
  },
  {
   "cell_type": "code",
   "execution_count": null,
   "id": "f1789873",
   "metadata": {},
   "outputs": [],
   "source": [
    "plt.scatter(X,y,color=\"red\")\n",
    "plt.plot(X,dt_tahmin,color=\"blue\")\n",
    "plt.plot(X,rf_tahmin,color=\"green\")\n",
    "plt.show()"
   ]
  }
 ],
 "metadata": {
  "kernelspec": {
   "display_name": "Python 3 (ipykernel)",
   "language": "python",
   "name": "python3"
  },
  "language_info": {
   "codemirror_mode": {
    "name": "ipython",
    "version": 3
   },
   "file_extension": ".py",
   "mimetype": "text/x-python",
   "name": "python",
   "nbconvert_exporter": "python",
   "pygments_lexer": "ipython3",
   "version": "3.11.4"
  }
 },
 "nbformat": 4,
 "nbformat_minor": 5
}
