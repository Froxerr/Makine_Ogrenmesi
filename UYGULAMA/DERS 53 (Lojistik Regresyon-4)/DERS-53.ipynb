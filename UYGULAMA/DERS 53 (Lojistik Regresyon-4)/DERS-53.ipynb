{
 "cells": [
  {
   "cell_type": "code",
   "execution_count": null,
   "id": "82ea5498",
   "metadata": {},
   "outputs": [],
   "source": [
    "import pandas as pd\n",
    "from sklearn.preprocessing import LabelEncoder,StandardScaler\n",
    "from sklearn.model_selection import train_test_split,cross_val_score\n",
    "from sklearn.linear_model import LogisticRegression\n",
    "from sklearn.metrics import confusion_matrix,accuracy_score"
   ]
  },
  {
   "cell_type": "code",
   "execution_count": null,
   "id": "14b4f173",
   "metadata": {},
   "outputs": [],
   "source": [
    "data = pd.read_csv(\"Iris.csv\")\n",
    "df = data.copy()\n",
    "df = df.drop(\"Id\",axis=1)\n",
    "df.head()"
   ]
  },
  {
   "cell_type": "code",
   "execution_count": null,
   "id": "695ed944",
   "metadata": {},
   "outputs": [],
   "source": [
    "df.isnull().sum()"
   ]
  },
  {
   "cell_type": "code",
   "execution_count": null,
   "id": "51c42493",
   "metadata": {},
   "outputs": [],
   "source": [
    "df.info()"
   ]
  },
  {
   "cell_type": "code",
   "execution_count": null,
   "id": "46d14ede",
   "metadata": {},
   "outputs": [],
   "source": [
    "df.dtypes"
   ]
  },
  {
   "cell_type": "code",
   "execution_count": null,
   "id": "a2bdc504",
   "metadata": {},
   "outputs": [],
   "source": [
    "df[\"Species\"].unique()"
   ]
  },
  {
   "cell_type": "code",
   "execution_count": null,
   "id": "3019a79d",
   "metadata": {},
   "outputs": [],
   "source": [
    "le = LabelEncoder()\n",
    "df[\"Species\"] = le.fit_transform(df[\"Species\"])\n",
    "df[\"Species\"].unique()"
   ]
  },
  {
   "cell_type": "code",
   "execution_count": null,
   "id": "62a52b48",
   "metadata": {},
   "outputs": [],
   "source": [
    "y = df[\"Species\"]\n",
    "X = df.drop(\"Species\",axis=1)\n",
    "\n",
    "X_train,X_test,y_train,y_test = train_test_split(X,y,test_size=0.2,random_state=42)\n",
    "\n",
    "sc = StandardScaler()\n",
    "\n",
    "X_train = sc.fit_transform(X_train)\n",
    "X_test = sc.transform(X_test)\n",
    "\n",
    "model = LogisticRegression(random_state=0)\n",
    "model.fit(X_train,y_train)\n",
    "tahmin = model.predict(X_test)"
   ]
  },
  {
   "cell_type": "code",
   "execution_count": null,
   "id": "213f0bc2",
   "metadata": {},
   "outputs": [],
   "source": [
    "cm = confusion_matrix(y_test,tahmin)\n",
    "acs = accuracy_score(y_test,tahmin)\n",
    "\n",
    "print(cm)\n",
    "print(acs)\n",
    "#100 de 100'lük bir öğrenme başarısı varsa, bu öğrenme değil ezberlenmedir diye şüpheye düşüp \n",
    "#cross-validation değerine bakacağız."
   ]
  },
  {
   "cell_type": "code",
   "execution_count": null,
   "id": "dc7cbba5",
   "metadata": {},
   "outputs": [],
   "source": [
    "cv = cross_val_score(model,X_test,y_test,cv=10).mean()\n",
    "print(cv)"
   ]
  }
 ],
 "metadata": {
  "kernelspec": {
   "display_name": "Python 3 (ipykernel)",
   "language": "python",
   "name": "python3"
  },
  "language_info": {
   "codemirror_mode": {
    "name": "ipython",
    "version": 3
   },
   "file_extension": ".py",
   "mimetype": "text/x-python",
   "name": "python",
   "nbconvert_exporter": "python",
   "pygments_lexer": "ipython3",
   "version": "3.11.4"
  }
 },
 "nbformat": 4,
 "nbformat_minor": 5
}
