{
 "cells": [
  {
   "cell_type": "code",
   "execution_count": null,
   "id": "1c993fd5",
   "metadata": {},
   "outputs": [],
   "source": [
    "import pandas as pd\n",
    "import numpy as np\n",
    "from sklearn.model_selection import train_test_split\n",
    "from sklearn.linear_model import Ridge,Lasso,ElasticNet,ElasticNetCV\n",
    "import sklearn.metrics as mt"
   ]
  },
  {
   "cell_type": "code",
   "execution_count": null,
   "id": "d9710008",
   "metadata": {},
   "outputs": [],
   "source": [
    "#Hocanın yaptığı Boston dataseti güncelleme ile kaldırıldığı için alttaki URL'den alıp çevirme işlemlerini yapıyoruz\n",
    "data_url = \"http://lib.stat.cmu.edu/datasets/boston\"\n",
    "raw_df = pd.read_csv(data_url, sep=\"\\s+\", skiprows=22, header=None)\n",
    "data = np.hstack([raw_df.values[::2, :], raw_df.values[1::2, :2]])\n",
    "target = raw_df.values[1::2, 2]"
   ]
  },
  {
   "cell_type": "code",
   "execution_count": null,
   "id": "c375d94b",
   "metadata": {},
   "outputs": [],
   "source": [
    "dfdata = pd.DataFrame(data,columns=[\"CRIM\",\"ZN\",\"INDUS\",\"CHAS\",\"NOX\",\"RM\",\"AGE\",\"DIS\",\"RAD\",\"TAX\",\"PTRATIO\",\"B\",\"LSTAT\"])\n",
    "df = dfdata.copy()"
   ]
  },
  {
   "cell_type": "code",
   "execution_count": null,
   "id": "f24056e4",
   "metadata": {},
   "outputs": [],
   "source": [
    "#Bu veri içinde bulunanların hepsi bir bağımsız değişken. Bağımlı değişken için yeni bir sütun oluşturuyoruz\n",
    "df[\"PRICE\"] = target\n",
    "df"
   ]
  },
  {
   "cell_type": "code",
   "execution_count": null,
   "id": "11bd1a9f",
   "metadata": {},
   "outputs": [],
   "source": [
    "y = df[\"PRICE\"]\n",
    "X = df.drop(\"PRICE\",axis=1)\n",
    "\n",
    "X_train,X_test,y_train,y_test = train_test_split(X,y,test_size=0.2,random_state=42)\n",
    "\n",
    "ridge_model = Ridge(alpha=0.1)\n",
    "ridge_model.fit(X_train,y_train)\n",
    "\n",
    "lasso_model = Lasso(alpha=0.1).fit(X_train,y_train)\n",
    "\n",
    "elas_model = ElasticNet(alpha=0.1).fit(X_train,y_train)\n",
    "\n",
    "\n",
    "print(\"RIDGE TRAIN: \\t\" + str(ridge_model.score(X_train,y_train)))\n",
    "print(\"LASSO TRAIN: \\t\" + str(lasso_model.score(X_train,y_train)))\n",
    "print(\"ELAS TRAIN: \\t\" + str(elas_model.score(X_train,y_train)))\n",
    "\n",
    "print(\"RIDGE TEST: \\t\" + str(ridge_model.score(X_test,y_test)))\n",
    "print(\"LASSO TEST: \\t\" + str(lasso_model.score(X_test,y_test)))\n",
    "print(\"ELAS TEST: \\t\" + str(elas_model.score(X_test,y_test)))\n",
    "\n",
    "ridge_tahmin = ridge_model.predict(X_test)\n",
    "lasso_tahmin = lasso_model.predict(X_test)\n",
    "elas_tahmin = elas_model.predict(X_test)\n",
    "\n",
    "print(\"ridge_tahmin: \\t\"+str(mt.mean_squared_error(y_test,ridge_tahmin)))\n",
    "print(\"lasso_tahmin: \\t\"+str(mt.mean_squared_error(y_test,lasso_tahmin)))\n",
    "print(\"elas_tahmin: \\t\"+str(mt.mean_squared_error(y_test,elas_tahmin)))\n",
    "\n",
    "lamb = ElasticNetCV(cv=10,max_iter=10000).fit(X_train,y_train).alpha_\n",
    "\n",
    "elas_model_2 = ElasticNet(alpha=lamb).fit(X_train,y_train)\n",
    "\n",
    "print(\"ELAS_2 TRAIN: \\t\" + str(elas_model_2.score(X_train,y_train)))\n",
    "print(\"ELAS_2 TEST: \\t\" + str(elas_model_2.score(X_test,y_test)))\n",
    "\n",
    "elas_tahmin_2 = elas_model_2.predict(X_test)\n",
    "\n",
    "print(\"elas_tahmin: \\t\"+str(mt.mean_squared_error(y_test,elas_tahmin_2)))"
   ]
  },
  {
   "cell_type": "code",
   "execution_count": null,
   "id": "6377bcc6",
   "metadata": {},
   "outputs": [],
   "source": [
    "y = df[\"PRICE\"]\n",
    "X = df.drop(\"PRICE\",axis=1)\n",
    "\n",
    "X_train,X_test,y_train,y_test = train_test_split(X,y,test_size=0.2,random_state=42)\n",
    "\n",
    "ridge_model = Ridge(alpha=0.1)\n",
    "ridge_model.fit(X_train,y_train)\n",
    "\n",
    "lasso_model = Lasso(alpha=0.1).fit(X_train,y_train)\n",
    "\n",
    "elas_model = ElasticNet(alpha=0.1).fit(X_train,y_train)\n",
    "\n",
    "\n",
    "print(\"ELAS TRAIN: \\t\" + str(elas_model.score(X_train,y_train)))\n",
    "\n",
    "print(\"ELAS TEST: \\t\" + str(elas_model.score(X_test,y_test)))\n",
    "\n",
    "ridge_tahmin = ridge_model.predict(X_test)\n",
    "lasso_tahmin = lasso_model.predict(X_test)\n",
    "elas_tahmin = elas_model.predict(X_test)\n",
    "\n",
    "\n",
    "print(\"elas_tahmin: \\t\"+str(mt.mean_squared_error(y_test,elas_tahmin)) + \"\\n\")\n",
    "\n",
    "lamb = ElasticNetCV(cv=10,max_iter=10000).fit(X_train,y_train).alpha_\n",
    "\n",
    "elas_model_2 = ElasticNet(alpha=lamb).fit(X_train,y_train)\n",
    "\n",
    "print(\"ELAS_2 TRAIN: \\t\" + str(elas_model_2.score(X_train,y_train)))\n",
    "print(\"ELAS_2 TEST: \\t\" + str(elas_model_2.score(X_test,y_test)))\n",
    "\n",
    "elas_tahmin_2 = elas_model_2.predict(X_test)\n",
    "\n",
    "print(\"elas_tahmin_2: \\t\"+str(mt.mean_squared_error(y_test,elas_tahmin_2)))"
   ]
  }
 ],
 "metadata": {
  "kernelspec": {
   "display_name": "Python 3 (ipykernel)",
   "language": "python",
   "name": "python3"
  },
  "language_info": {
   "codemirror_mode": {
    "name": "ipython",
    "version": 3
   },
   "file_extension": ".py",
   "mimetype": "text/x-python",
   "name": "python",
   "nbconvert_exporter": "python",
   "pygments_lexer": "ipython3",
   "version": "3.11.4"
  }
 },
 "nbformat": 4,
 "nbformat_minor": 5
}
