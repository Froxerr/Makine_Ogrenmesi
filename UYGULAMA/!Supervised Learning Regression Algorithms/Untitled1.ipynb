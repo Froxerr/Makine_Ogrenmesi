{
 "cells": [
  {
   "cell_type": "code",
   "execution_count": 4,
   "id": "7a7ac511",
   "metadata": {},
   "outputs": [],
   "source": [
    "import pandas as pd\n",
    "import numpy as np\n",
    "from sklearn.model_selection import train_test_split, GridSearchCV\n",
    "from sklearn.linear_model import LinearRegression, Ridge,Lasso,ElasticNet, RidgeCV,LassoCV,ElasticNetCV\n",
    "from sklearn.svm import SVR\n",
    "from sklearn.tree import DecisionTreeRegressor\n",
    "from sklearn.ensemble import BaggingRegressor,RandomForestRegressor\n",
    "import sklearn.metrics as mt\n",
    "from sklearn.model_selection import cross_val_score\n",
    "from sklearn.preprocessing import PolynomialFeatures,StandardScaler"
   ]
  },
  {
   "cell_type": "code",
   "execution_count": 5,
   "id": "ae37124a",
   "metadata": {},
   "outputs": [],
   "source": [
    "data = pd.read_csv(\"advertising.csv\")\n",
    "df = data.copy()\n",
    "\n",
    "y = df[\"Sales\"]\n",
    "X = df.drop(\"Sales\", axis=1)\n",
    "\n",
    "X_train,X_test,y_train,y_test = train_test_split(X,y,test_size=0.1,random_state=42)\n",
    "\n",
    "scy = StandardScaler()\n",
    "scx = StandardScaler()\n",
    "\n",
    "X_train = scx.fit_transform(X_train)\n",
    "X_test = scy.fit_transform(X_test)"
   ]
  },
  {
   "cell_type": "code",
   "execution_count": 7,
   "id": "90c2231e",
   "metadata": {},
   "outputs": [
    {
     "name": "stdout",
     "output_type": "stream",
     "text": [
      "{'C': 100, 'epsilon': 0.01, 'gamma': 0.01, 'kernel': 'rbf'}\n"
     ]
    }
   ],
   "source": [
    "param_grid = {\n",
    "    'C': [1, 10, 100],\n",
    "    'kernel': ['linear', 'rbf'],\n",
    "    'gamma': [1, 0.1, 0.01],\n",
    "    'epsilon': [0.1, 0.01, 0.001]\n",
    "}\n",
    "svr = SVR()\n",
    "grid_search = GridSearchCV(svr, param_grid, cv=5)\n",
    "grid_search.fit(X_train, y_train)\n",
    "best_params = grid_search.best_params_\n",
    "print(best_params)"
   ]
  }
 ],
 "metadata": {
  "kernelspec": {
   "display_name": "Python 3 (ipykernel)",
   "language": "python",
   "name": "python3"
  },
  "language_info": {
   "codemirror_mode": {
    "name": "ipython",
    "version": 3
   },
   "file_extension": ".py",
   "mimetype": "text/x-python",
   "name": "python",
   "nbconvert_exporter": "python",
   "pygments_lexer": "ipython3",
   "version": "3.11.4"
  }
 },
 "nbformat": 4,
 "nbformat_minor": 5
}
