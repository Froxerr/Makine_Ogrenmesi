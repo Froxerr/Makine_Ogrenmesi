{
 "cells": [
  {
   "cell_type": "code",
   "execution_count": null,
   "id": "3849e557",
   "metadata": {},
   "outputs": [],
   "source": [
    "import pandas as pd\n",
    "import numpy as np\n",
    "from sklearn.preprocessing import StandardScaler\n",
    "from sklearn.svm import SVR\n",
    "import matplotlib.pyplot as plt"
   ]
  },
  {
   "cell_type": "code",
   "execution_count": null,
   "id": "42e4bd5c",
   "metadata": {},
   "outputs": [],
   "source": [
    "data = pd.read_csv(\"Position_Salaries.csv\")\n",
    "df = data.copy()\n",
    "df.head()"
   ]
  },
  {
   "cell_type": "code",
   "execution_count": null,
   "id": "c627fb10",
   "metadata": {},
   "outputs": [],
   "source": [
    "#Eğitim ve test olarak ayırmayacağız, çünkü veri setimiz küçük\n",
    "y = df[\"Salary\"]\n",
    "X = df[\"Level\"]"
   ]
  },
  {
   "cell_type": "code",
   "execution_count": null,
   "id": "4ec19569",
   "metadata": {},
   "outputs": [],
   "source": [
    "#Sütun bazlı array'e çeviriyoruz\n",
    "y = np.array(y).reshape(-1,1)\n",
    "X = np.array(X).reshape(-1,1)"
   ]
  },
  {
   "cell_type": "code",
   "execution_count": null,
   "id": "51ad87e1",
   "metadata": {},
   "outputs": [],
   "source": [
    "#SVR yapısını kurmadan önce bir standartlaştırma işlemi yapıyoruz\n",
    "scx = StandardScaler()\n",
    "scy = StandardScaler()\n",
    "\n",
    "y = scy.fit_transform(y)\n",
    "X = scx.fit_transform(X)"
   ]
  },
  {
   "cell_type": "code",
   "execution_count": null,
   "id": "7e8c547e",
   "metadata": {},
   "outputs": [],
   "source": [
    "#SVR yapısını kuruyoruz\n",
    "#kernel = Hangi yapıda bakmak istiyorsan, onu gönderiyorsun. Yani ben bir lineer yapıda uyumluluğuna bakmak istiyorsam, \n",
    "#linear olarak gönderiyorum\n",
    "#kernel = Eğer polinomsal bir yapıda çalışmak istiyorsam, poly gönderiyorum ve ek olarak degree derecesini yolluyorum\n",
    "svr_model = SVR(kernel=\"poly\",degree=3)\n",
    "svr_model.fit(X,y.ravel())\n",
    "\n",
    "tahmin = svr_model.predict(X)"
   ]
  },
  {
   "cell_type": "code",
   "execution_count": null,
   "id": "2c4b4ea3",
   "metadata": {
    "scrolled": false
   },
   "outputs": [],
   "source": [
    "plt.scatter(X,y,color=\"red\")#Orijinal veri setim bu\n",
    "plt.plot(X,tahmin)#Kırmızı olanlar benim orijinal verilerim, çizgi ise modelden gelen tahmin değerim\n",
    "plt.show()"
   ]
  }
 ],
 "metadata": {
  "kernelspec": {
   "display_name": "Python 3 (ipykernel)",
   "language": "python",
   "name": "python3"
  },
  "language_info": {
   "codemirror_mode": {
    "name": "ipython",
    "version": 3
   },
   "file_extension": ".py",
   "mimetype": "text/x-python",
   "name": "python",
   "nbconvert_exporter": "python",
   "pygments_lexer": "ipython3",
   "version": "3.11.4"
  }
 },
 "nbformat": 4,
 "nbformat_minor": 5
}
