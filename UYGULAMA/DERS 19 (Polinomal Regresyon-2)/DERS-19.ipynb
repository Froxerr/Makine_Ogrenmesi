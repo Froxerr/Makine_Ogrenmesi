{
 "cells": [
  {
   "cell_type": "code",
   "execution_count": null,
   "id": "c6c54204",
   "metadata": {},
   "outputs": [],
   "source": [
    "import pandas as pd\n",
    "import matplotlib.pyplot as plt\n",
    "from sklearn.linear_model import LinearRegression\n",
    "import sklearn.metrics as mt\n",
    "from sklearn.preprocessing import PolynomialFeatures"
   ]
  },
  {
   "cell_type": "code",
   "execution_count": null,
   "id": "c4d650ce",
   "metadata": {},
   "outputs": [],
   "source": [
    "data = pd.read_excel(\"ornek.xlsx\")\n",
    "df = data.copy()\n",
    "df.head()"
   ]
  },
  {
   "cell_type": "code",
   "execution_count": null,
   "id": "2ea3c754",
   "metadata": {},
   "outputs": [],
   "source": [
    "#Sıcaklık değiştikçe ortalama verim değeri ne olacak? Modelimizi buna göre tasarlayacağız.\n",
    "y = df[\"Verim\"]\n",
    "X = df[\"Sıcaklık\"]\n",
    "\n",
    "plt.scatter(X,y)\n",
    "plt.show()"
   ]
  },
  {
   "cell_type": "code",
   "execution_count": null,
   "id": "f1acd4de",
   "metadata": {},
   "outputs": [],
   "source": [
    "#Test ve eğitim verilerini ayırmadığımız için veriyi bir diziye çevirmemiz gerekiyor.\n",
    "y = y.values.reshape(-1,1)\n",
    "X = X.values.reshape(-1,1)\n",
    "print(y)"
   ]
  },
  {
   "cell_type": "code",
   "execution_count": null,
   "id": "19c9ffe0",
   "metadata": {},
   "outputs": [],
   "source": [
    "lr = LinearRegression()\n",
    "lr.fit(X,y)\n",
    "\n",
    "tahmin = lr.predict(X)\n",
    "r2dog = mt.r2_score(y,tahmin)\n",
    "mse = mt.mean_squared_error(y,tahmin)\n",
    "\n",
    "print(f\"Doğrusal R2 = {r2dog}, Doğrusal MSE = {mse}\") # Aslında bu modelin doğrusal regresyona uymadığını söylüyor."
   ]
  },
  {
   "cell_type": "code",
   "execution_count": null,
   "id": "2faf54de",
   "metadata": {},
   "outputs": [],
   "source": [
    "#Polinom derecesi üzerine bir yapı çağırdık, derecesini 2'ye eşitledik ve bunu 'pol' değişkenine atadık. \n",
    "#Ardından bu 'pol' üzerinden 'X_pol' adında bir değişken oluşturduk. Oluşturduğumuz bu 'X_pol'a da \n",
    "#elimizdeki X değerlerini 2. dereceden bir polinoma dönüştür ve 'X_pol' değişkenine ata dedik.\n",
    "pol = PolynomialFeatures(degree=3)\n",
    "#Dereceyi 2'den 3'e çıkardığımızda daha uyumlu bir model ortaya çıkıyor\n",
    "X_pol = pol.fit_transform(X)\n",
    "\n",
    "\n",
    "lr2 = LinearRegression()\n",
    "lr2.fit(X_pol,y)\n",
    "tahmin2 = lr2.predict(X_pol)\n",
    "\n",
    "r2dog = mt.r2_score(y,tahmin2)\n",
    "mse = mt.mean_squared_error(y,tahmin2)\n",
    "print(f\"Doğrusal R2 = {r2dog}, Doğrusal MSE = {mse}\")"
   ]
  },
  {
   "cell_type": "code",
   "execution_count": null,
   "id": "a3ed84d3",
   "metadata": {},
   "outputs": [],
   "source": [
    "plt.scatter(X,y,color=\"red\")\n",
    "plt.plot(X,tahmin2,color=\"Blue\")\n",
    "plt.show()"
   ]
  }
 ],
 "metadata": {
  "kernelspec": {
   "display_name": "Python 3 (ipykernel)",
   "language": "python",
   "name": "python3"
  },
  "language_info": {
   "codemirror_mode": {
    "name": "ipython",
    "version": 3
   },
   "file_extension": ".py",
   "mimetype": "text/x-python",
   "name": "python",
   "nbconvert_exporter": "python",
   "pygments_lexer": "ipython3",
   "version": "3.11.4"
  }
 },
 "nbformat": 4,
 "nbformat_minor": 5
}
