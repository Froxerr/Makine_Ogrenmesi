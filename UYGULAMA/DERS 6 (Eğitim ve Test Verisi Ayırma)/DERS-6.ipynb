{
 "cells": [
  {
   "cell_type": "code",
   "execution_count": null,
   "id": "46833d5a",
   "metadata": {},
   "outputs": [],
   "source": [
    "import pandas as pd\n",
    "from sklearn.model_selection import train_test_split"
   ]
  },
  {
   "cell_type": "code",
   "execution_count": null,
   "id": "b0dcabac",
   "metadata": {},
   "outputs": [],
   "source": [
    "df = pd.DataFrame(pd.read_excel(\"ornek.xlsx\"))\n",
    "df.head()"
   ]
  },
  {
   "cell_type": "code",
   "execution_count": null,
   "id": "5ed1f947",
   "metadata": {},
   "outputs": [],
   "source": [
    "y = df[\"Y\"]\n",
    "X = df[[\"X1\",\"X2\"]]\n",
    "#train_test_split = 4 tane çıktı verir bize | 2 tanesi bağımsız değişkenler için eğitim ve test\n",
    "#diğer 2 tanesi ise bağımlı değişkenler için eğitim ve test\n",
    "#X = Bağımsız değişkenim\n",
    "#y = Bağımlı değişkenim\n",
    "#test %20 | Eğitim %80 genel olarak ayırma işlemi \n",
    "#test_size = Test veri setimizin büyüklüğü hakkında bir parametre bekliyor | 0.2 = %20\n",
    "X_train,X_test,y_train,y_test = train_test_split(X,y,test_size=0.2,random_state=42)\n",
    "print(X_train) # Eğitimi %80 alıp\n",
    "print(X_test) # Testi %20 aldı\n",
    "print(X_train.sum()) #Her seferinde %80 lik X1 VE X2 DEN RASGELE ÖRNEKLEM ALIR AMA HER SEFERİNDE RASGELE OLACAĞI İÇİN\n",
    "#bizim bunu sabitlememiz gerekiyor\n",
    "#random_state=42 = bizim seed'i sabit tutmaya yarıyor | neden 42 mi BÜYÜK BİR GİZEM"
   ]
  }
 ],
 "metadata": {
  "kernelspec": {
   "display_name": "Python 3 (ipykernel)",
   "language": "python",
   "name": "python3"
  },
  "language_info": {
   "codemirror_mode": {
    "name": "ipython",
    "version": 3
   },
   "file_extension": ".py",
   "mimetype": "text/x-python",
   "name": "python",
   "nbconvert_exporter": "python",
   "pygments_lexer": "ipython3",
   "version": "3.11.4"
  }
 },
 "nbformat": 4,
 "nbformat_minor": 5
}
